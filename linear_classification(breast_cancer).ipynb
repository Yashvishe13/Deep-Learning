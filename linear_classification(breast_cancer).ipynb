{
  "nbformat": 4,
  "nbformat_minor": 0,
  "metadata": {
    "colab": {
      "name": "linear classification(breast cancer).ipynb",
      "provenance": [],
      "authorship_tag": "ABX9TyMjRDd/nZgwJS2EGXYfz2eW",
      "include_colab_link": true
    },
    "kernelspec": {
      "name": "python3",
      "display_name": "Python 3"
    },
    "language_info": {
      "name": "python"
    }
  },
  "cells": [
    {
      "cell_type": "markdown",
      "metadata": {
        "id": "view-in-github",
        "colab_type": "text"
      },
      "source": [
        "<a href=\"https://colab.research.google.com/github/Yashvishe13/Deep-Learning/blob/main/linear_classification(breast_cancer).ipynb\" target=\"_parent\"><img src=\"https://colab.research.google.com/assets/colab-badge.svg\" alt=\"Open In Colab\"/></a>"
      ]
    },
    {
      "cell_type": "code",
      "metadata": {
        "id": "jgDi2x6KakX4"
      },
      "source": [
        "# Load in the data\n",
        "from sklearn.datasets import load_breast_cancer"
      ],
      "execution_count": null,
      "outputs": []
    },
    {
      "cell_type": "code",
      "metadata": {
        "id": "LSr8qwvDazNG"
      },
      "source": [
        "data = load_breast_cancer()"
      ],
      "execution_count": null,
      "outputs": []
    },
    {
      "cell_type": "code",
      "metadata": {
        "colab": {
          "base_uri": "https://localhost:8080/"
        },
        "id": "4uvnH1rla5f6",
        "outputId": "82a2f848-7038-4c59-8661-f8412f02ed12"
      },
      "source": [
        "data.keys()"
      ],
      "execution_count": null,
      "outputs": [
        {
          "output_type": "execute_result",
          "data": {
            "text/plain": [
              "dict_keys(['data', 'target', 'target_names', 'DESCR', 'feature_names', 'filename'])"
            ]
          },
          "metadata": {
            "tags": []
          },
          "execution_count": 3
        }
      ]
    },
    {
      "cell_type": "code",
      "metadata": {
        "colab": {
          "base_uri": "https://localhost:8080/"
        },
        "id": "_1W5F-AZa7A5",
        "outputId": "ba1f9d48-8fd2-4795-dac1-44b21bfdf5ad"
      },
      "source": [
        "data.data.shape"
      ],
      "execution_count": null,
      "outputs": [
        {
          "output_type": "execute_result",
          "data": {
            "text/plain": [
              "(569, 30)"
            ]
          },
          "metadata": {
            "tags": []
          },
          "execution_count": 4
        }
      ]
    },
    {
      "cell_type": "code",
      "metadata": {
        "colab": {
          "base_uri": "https://localhost:8080/"
        },
        "id": "JOSnzKtea87R",
        "outputId": "4387149f-14e9-4e12-f9c4-d9ce79d3b3d7"
      },
      "source": [
        "data.target"
      ],
      "execution_count": null,
      "outputs": [
        {
          "output_type": "execute_result",
          "data": {
            "text/plain": [
              "array([0, 0, 0, 0, 0, 0, 0, 0, 0, 0, 0, 0, 0, 0, 0, 0, 0, 0, 0, 1, 1, 1,\n",
              "       0, 0, 0, 0, 0, 0, 0, 0, 0, 0, 0, 0, 0, 0, 0, 1, 0, 0, 0, 0, 0, 0,\n",
              "       0, 0, 1, 0, 1, 1, 1, 1, 1, 0, 0, 1, 0, 0, 1, 1, 1, 1, 0, 1, 0, 0,\n",
              "       1, 1, 1, 1, 0, 1, 0, 0, 1, 0, 1, 0, 0, 1, 1, 1, 0, 0, 1, 0, 0, 0,\n",
              "       1, 1, 1, 0, 1, 1, 0, 0, 1, 1, 1, 0, 0, 1, 1, 1, 1, 0, 1, 1, 0, 1,\n",
              "       1, 1, 1, 1, 1, 1, 1, 0, 0, 0, 1, 0, 0, 1, 1, 1, 0, 0, 1, 0, 1, 0,\n",
              "       0, 1, 0, 0, 1, 1, 0, 1, 1, 0, 1, 1, 1, 1, 0, 1, 1, 1, 1, 1, 1, 1,\n",
              "       1, 1, 0, 1, 1, 1, 1, 0, 0, 1, 0, 1, 1, 0, 0, 1, 1, 0, 0, 1, 1, 1,\n",
              "       1, 0, 1, 1, 0, 0, 0, 1, 0, 1, 0, 1, 1, 1, 0, 1, 1, 0, 0, 1, 0, 0,\n",
              "       0, 0, 1, 0, 0, 0, 1, 0, 1, 0, 1, 1, 0, 1, 0, 0, 0, 0, 1, 1, 0, 0,\n",
              "       1, 1, 1, 0, 1, 1, 1, 1, 1, 0, 0, 1, 1, 0, 1, 1, 0, 0, 1, 0, 1, 1,\n",
              "       1, 1, 0, 1, 1, 1, 1, 1, 0, 1, 0, 0, 0, 0, 0, 0, 0, 0, 0, 0, 0, 0,\n",
              "       0, 0, 1, 1, 1, 1, 1, 1, 0, 1, 0, 1, 1, 0, 1, 1, 0, 1, 0, 0, 1, 1,\n",
              "       1, 1, 1, 1, 1, 1, 1, 1, 1, 1, 1, 0, 1, 1, 0, 1, 0, 1, 1, 1, 1, 1,\n",
              "       1, 1, 1, 1, 1, 1, 1, 1, 1, 0, 1, 1, 1, 0, 1, 0, 1, 1, 1, 1, 0, 0,\n",
              "       0, 1, 1, 1, 1, 0, 1, 0, 1, 0, 1, 1, 1, 0, 1, 1, 1, 1, 1, 1, 1, 0,\n",
              "       0, 0, 1, 1, 1, 1, 1, 1, 1, 1, 1, 1, 1, 0, 0, 1, 0, 0, 0, 1, 0, 0,\n",
              "       1, 1, 1, 1, 1, 0, 1, 1, 1, 1, 1, 0, 1, 1, 1, 0, 1, 1, 0, 0, 1, 1,\n",
              "       1, 1, 1, 1, 0, 1, 1, 1, 1, 1, 1, 1, 0, 1, 1, 1, 1, 1, 0, 1, 1, 0,\n",
              "       1, 1, 1, 1, 1, 1, 1, 1, 1, 1, 1, 1, 0, 1, 0, 0, 1, 0, 1, 1, 1, 1,\n",
              "       1, 0, 1, 1, 0, 1, 0, 1, 1, 0, 1, 0, 1, 1, 1, 1, 1, 1, 1, 1, 0, 0,\n",
              "       1, 1, 1, 1, 1, 1, 0, 1, 1, 1, 1, 1, 1, 1, 1, 1, 1, 0, 1, 1, 1, 1,\n",
              "       1, 1, 1, 0, 1, 0, 1, 1, 0, 1, 1, 1, 1, 1, 0, 0, 1, 0, 1, 0, 1, 1,\n",
              "       1, 1, 1, 0, 1, 1, 0, 1, 0, 1, 0, 0, 1, 1, 1, 0, 1, 1, 1, 1, 1, 1,\n",
              "       1, 1, 1, 1, 1, 0, 1, 0, 0, 1, 1, 1, 1, 1, 1, 1, 1, 1, 1, 1, 1, 1,\n",
              "       1, 1, 1, 1, 1, 1, 1, 1, 1, 1, 1, 1, 0, 0, 0, 0, 0, 0, 1])"
            ]
          },
          "metadata": {
            "tags": []
          },
          "execution_count": 5
        }
      ]
    },
    {
      "cell_type": "code",
      "metadata": {
        "colab": {
          "base_uri": "https://localhost:8080/"
        },
        "id": "ZShkJXDUa-qi",
        "outputId": "5d0f8e5c-a0e9-4443-bca8-82dfc00ce502"
      },
      "source": [
        "data.feature_names"
      ],
      "execution_count": null,
      "outputs": [
        {
          "output_type": "execute_result",
          "data": {
            "text/plain": [
              "array(['mean radius', 'mean texture', 'mean perimeter', 'mean area',\n",
              "       'mean smoothness', 'mean compactness', 'mean concavity',\n",
              "       'mean concave points', 'mean symmetry', 'mean fractal dimension',\n",
              "       'radius error', 'texture error', 'perimeter error', 'area error',\n",
              "       'smoothness error', 'compactness error', 'concavity error',\n",
              "       'concave points error', 'symmetry error',\n",
              "       'fractal dimension error', 'worst radius', 'worst texture',\n",
              "       'worst perimeter', 'worst area', 'worst smoothness',\n",
              "       'worst compactness', 'worst concavity', 'worst concave points',\n",
              "       'worst symmetry', 'worst fractal dimension'], dtype='<U23')"
            ]
          },
          "metadata": {
            "tags": []
          },
          "execution_count": 6
        }
      ]
    },
    {
      "cell_type": "code",
      "metadata": {
        "colab": {
          "base_uri": "https://localhost:8080/"
        },
        "id": "Wth7Ybd8bA7l",
        "outputId": "b215aef6-24e8-4581-fc4f-75332d281c0a"
      },
      "source": [
        "data.target_names"
      ],
      "execution_count": null,
      "outputs": [
        {
          "output_type": "execute_result",
          "data": {
            "text/plain": [
              "array(['malignant', 'benign'], dtype='<U9')"
            ]
          },
          "metadata": {
            "tags": []
          },
          "execution_count": 7
        }
      ]
    },
    {
      "cell_type": "code",
      "metadata": {
        "colab": {
          "base_uri": "https://localhost:8080/"
        },
        "id": "U--37Lo2bEH6",
        "outputId": "16f80a31-31b4-45ca-ebf9-e9bc3e562279"
      },
      "source": [
        "data.target.shape"
      ],
      "execution_count": null,
      "outputs": [
        {
          "output_type": "execute_result",
          "data": {
            "text/plain": [
              "(569,)"
            ]
          },
          "metadata": {
            "tags": []
          },
          "execution_count": 8
        }
      ]
    },
    {
      "cell_type": "code",
      "metadata": {
        "id": "4hvniYvsbNID"
      },
      "source": [
        "from sklearn.model_selection import train_test_split\n",
        "X_train, X_test, y_train, y_test = train_test_split(data.data, data.target, test_size=0.33, random_state=0)"
      ],
      "execution_count": null,
      "outputs": []
    },
    {
      "cell_type": "code",
      "metadata": {
        "colab": {
          "base_uri": "https://localhost:8080/"
        },
        "id": "uxSv9r6Pb8f8",
        "outputId": "e4199b75-6d67-49c3-b117-eb3c79640171"
      },
      "source": [
        "X_train.shape"
      ],
      "execution_count": null,
      "outputs": [
        {
          "output_type": "execute_result",
          "data": {
            "text/plain": [
              "(381, 30)"
            ]
          },
          "metadata": {
            "tags": []
          },
          "execution_count": 10
        }
      ]
    },
    {
      "cell_type": "code",
      "metadata": {
        "id": "stNnW7Vzb--n"
      },
      "source": [
        "N, D = X_train.shape"
      ],
      "execution_count": null,
      "outputs": []
    },
    {
      "cell_type": "code",
      "metadata": {
        "id": "r8ubRKEWcCj5"
      },
      "source": [
        "from sklearn.preprocessing import StandardScaler\n",
        "scalar = StandardScaler()\n",
        "X_train = scalar.fit_transform(X_train)\n",
        "X_test = scalar.transform(X_test)"
      ],
      "execution_count": null,
      "outputs": []
    },
    {
      "cell_type": "code",
      "metadata": {
        "id": "6eaL7hHCcDJv"
      },
      "source": [
        "import tensorflow as tf\n",
        "from tensorflow import keras\n",
        "from tensorflow.keras import layers"
      ],
      "execution_count": null,
      "outputs": []
    },
    {
      "cell_type": "code",
      "metadata": {
        "colab": {
          "base_uri": "https://localhost:8080/"
        },
        "id": "Zz4OmpDzd3fm",
        "outputId": "78890416-8f84-4861-91a6-5e6fc2530a2d"
      },
      "source": [
        "model = keras.Sequential()\n",
        "model.add(layers.Dense(1, input_shape=(D, ), activation='sigmoid'))\n",
        "\n",
        "model.compile(optimizer='adam', loss='binary_crossentropy', metrics=['accuracy'])\n",
        "r = model.fit(X_train, y_train, validation_data=(X_test, y_test), epochs=100)\n",
        "\n",
        "print('Train score:', model.evaluate(X_train, y_train))\n",
        "print('Test score:', model.evaluate(X_test, y_test))"
      ],
      "execution_count": null,
      "outputs": [
        {
          "output_type": "stream",
          "text": [
            "Epoch 1/100\n",
            "12/12 [==============================] - 1s 15ms/step - loss: 0.5950 - accuracy: 0.7244 - val_loss: 0.5697 - val_accuracy: 0.7553\n",
            "Epoch 2/100\n",
            "12/12 [==============================] - 0s 5ms/step - loss: 0.5490 - accuracy: 0.7743 - val_loss: 0.5303 - val_accuracy: 0.7606\n",
            "Epoch 3/100\n",
            "12/12 [==============================] - 0s 5ms/step - loss: 0.5076 - accuracy: 0.8136 - val_loss: 0.4957 - val_accuracy: 0.7819\n",
            "Epoch 4/100\n",
            "12/12 [==============================] - 0s 4ms/step - loss: 0.4716 - accuracy: 0.8320 - val_loss: 0.4654 - val_accuracy: 0.8138\n",
            "Epoch 5/100\n",
            "12/12 [==============================] - 0s 3ms/step - loss: 0.4401 - accuracy: 0.8451 - val_loss: 0.4383 - val_accuracy: 0.8457\n",
            "Epoch 6/100\n",
            "12/12 [==============================] - 0s 4ms/step - loss: 0.4132 - accuracy: 0.8556 - val_loss: 0.4133 - val_accuracy: 0.8511\n",
            "Epoch 7/100\n",
            "12/12 [==============================] - 0s 3ms/step - loss: 0.3883 - accuracy: 0.8688 - val_loss: 0.3917 - val_accuracy: 0.8564\n",
            "Epoch 8/100\n",
            "12/12 [==============================] - 0s 5ms/step - loss: 0.3665 - accuracy: 0.8714 - val_loss: 0.3725 - val_accuracy: 0.8564\n",
            "Epoch 9/100\n",
            "12/12 [==============================] - 0s 3ms/step - loss: 0.3473 - accuracy: 0.8871 - val_loss: 0.3552 - val_accuracy: 0.8617\n",
            "Epoch 10/100\n",
            "12/12 [==============================] - 0s 5ms/step - loss: 0.3303 - accuracy: 0.8898 - val_loss: 0.3391 - val_accuracy: 0.8617\n",
            "Epoch 11/100\n",
            "12/12 [==============================] - 0s 3ms/step - loss: 0.3146 - accuracy: 0.8976 - val_loss: 0.3248 - val_accuracy: 0.8670\n",
            "Epoch 12/100\n",
            "12/12 [==============================] - 0s 5ms/step - loss: 0.3006 - accuracy: 0.9108 - val_loss: 0.3115 - val_accuracy: 0.8670\n",
            "Epoch 13/100\n",
            "12/12 [==============================] - 0s 5ms/step - loss: 0.2884 - accuracy: 0.9108 - val_loss: 0.2988 - val_accuracy: 0.8670\n",
            "Epoch 14/100\n",
            "12/12 [==============================] - 0s 5ms/step - loss: 0.2763 - accuracy: 0.9108 - val_loss: 0.2878 - val_accuracy: 0.8723\n",
            "Epoch 15/100\n",
            "12/12 [==============================] - 0s 4ms/step - loss: 0.2657 - accuracy: 0.9134 - val_loss: 0.2778 - val_accuracy: 0.8777\n",
            "Epoch 16/100\n",
            "12/12 [==============================] - 0s 5ms/step - loss: 0.2565 - accuracy: 0.9265 - val_loss: 0.2678 - val_accuracy: 0.8777\n",
            "Epoch 17/100\n",
            "12/12 [==============================] - 0s 6ms/step - loss: 0.2473 - accuracy: 0.9318 - val_loss: 0.2594 - val_accuracy: 0.8777\n",
            "Epoch 18/100\n",
            "12/12 [==============================] - 0s 5ms/step - loss: 0.2392 - accuracy: 0.9318 - val_loss: 0.2514 - val_accuracy: 0.8777\n",
            "Epoch 19/100\n",
            "12/12 [==============================] - 0s 5ms/step - loss: 0.2318 - accuracy: 0.9318 - val_loss: 0.2439 - val_accuracy: 0.8830\n",
            "Epoch 20/100\n",
            "12/12 [==============================] - 0s 5ms/step - loss: 0.2249 - accuracy: 0.9344 - val_loss: 0.2365 - val_accuracy: 0.8830\n",
            "Epoch 21/100\n",
            "12/12 [==============================] - 0s 5ms/step - loss: 0.2183 - accuracy: 0.9396 - val_loss: 0.2304 - val_accuracy: 0.8883\n",
            "Epoch 22/100\n",
            "12/12 [==============================] - 0s 5ms/step - loss: 0.2128 - accuracy: 0.9423 - val_loss: 0.2239 - val_accuracy: 0.8936\n",
            "Epoch 23/100\n",
            "12/12 [==============================] - 0s 4ms/step - loss: 0.2068 - accuracy: 0.9423 - val_loss: 0.2183 - val_accuracy: 0.8989\n",
            "Epoch 24/100\n",
            "12/12 [==============================] - 0s 4ms/step - loss: 0.2017 - accuracy: 0.9475 - val_loss: 0.2131 - val_accuracy: 0.9043\n",
            "Epoch 25/100\n",
            "12/12 [==============================] - 0s 4ms/step - loss: 0.1970 - accuracy: 0.9528 - val_loss: 0.2080 - val_accuracy: 0.9043\n",
            "Epoch 26/100\n",
            "12/12 [==============================] - 0s 5ms/step - loss: 0.1924 - accuracy: 0.9554 - val_loss: 0.2032 - val_accuracy: 0.9043\n",
            "Epoch 27/100\n",
            "12/12 [==============================] - 0s 5ms/step - loss: 0.1881 - accuracy: 0.9554 - val_loss: 0.1990 - val_accuracy: 0.9043\n",
            "Epoch 28/100\n",
            "12/12 [==============================] - 0s 5ms/step - loss: 0.1841 - accuracy: 0.9580 - val_loss: 0.1951 - val_accuracy: 0.9043\n",
            "Epoch 29/100\n",
            "12/12 [==============================] - 0s 5ms/step - loss: 0.1804 - accuracy: 0.9580 - val_loss: 0.1913 - val_accuracy: 0.9043\n",
            "Epoch 30/100\n",
            "12/12 [==============================] - 0s 4ms/step - loss: 0.1769 - accuracy: 0.9580 - val_loss: 0.1875 - val_accuracy: 0.9096\n",
            "Epoch 31/100\n",
            "12/12 [==============================] - 0s 5ms/step - loss: 0.1736 - accuracy: 0.9580 - val_loss: 0.1839 - val_accuracy: 0.9096\n",
            "Epoch 32/100\n",
            "12/12 [==============================] - 0s 6ms/step - loss: 0.1704 - accuracy: 0.9580 - val_loss: 0.1805 - val_accuracy: 0.9096\n",
            "Epoch 33/100\n",
            "12/12 [==============================] - 0s 5ms/step - loss: 0.1674 - accuracy: 0.9580 - val_loss: 0.1773 - val_accuracy: 0.9149\n",
            "Epoch 34/100\n",
            "12/12 [==============================] - 0s 4ms/step - loss: 0.1646 - accuracy: 0.9580 - val_loss: 0.1744 - val_accuracy: 0.9202\n",
            "Epoch 35/100\n",
            "12/12 [==============================] - 0s 3ms/step - loss: 0.1619 - accuracy: 0.9580 - val_loss: 0.1716 - val_accuracy: 0.9202\n",
            "Epoch 36/100\n",
            "12/12 [==============================] - 0s 3ms/step - loss: 0.1594 - accuracy: 0.9580 - val_loss: 0.1689 - val_accuracy: 0.9202\n",
            "Epoch 37/100\n",
            "12/12 [==============================] - 0s 3ms/step - loss: 0.1569 - accuracy: 0.9580 - val_loss: 0.1663 - val_accuracy: 0.9202\n",
            "Epoch 38/100\n",
            "12/12 [==============================] - 0s 5ms/step - loss: 0.1546 - accuracy: 0.9606 - val_loss: 0.1638 - val_accuracy: 0.9202\n",
            "Epoch 39/100\n",
            "12/12 [==============================] - 0s 3ms/step - loss: 0.1523 - accuracy: 0.9606 - val_loss: 0.1615 - val_accuracy: 0.9202\n",
            "Epoch 40/100\n",
            "12/12 [==============================] - 0s 3ms/step - loss: 0.1503 - accuracy: 0.9606 - val_loss: 0.1590 - val_accuracy: 0.9309\n",
            "Epoch 41/100\n",
            "12/12 [==============================] - 0s 5ms/step - loss: 0.1482 - accuracy: 0.9633 - val_loss: 0.1569 - val_accuracy: 0.9309\n",
            "Epoch 42/100\n",
            "12/12 [==============================] - 0s 3ms/step - loss: 0.1462 - accuracy: 0.9633 - val_loss: 0.1547 - val_accuracy: 0.9309\n",
            "Epoch 43/100\n",
            "12/12 [==============================] - 0s 5ms/step - loss: 0.1444 - accuracy: 0.9659 - val_loss: 0.1525 - val_accuracy: 0.9309\n",
            "Epoch 44/100\n",
            "12/12 [==============================] - 0s 4ms/step - loss: 0.1426 - accuracy: 0.9659 - val_loss: 0.1504 - val_accuracy: 0.9309\n",
            "Epoch 45/100\n",
            "12/12 [==============================] - 0s 4ms/step - loss: 0.1408 - accuracy: 0.9659 - val_loss: 0.1486 - val_accuracy: 0.9309\n",
            "Epoch 46/100\n",
            "12/12 [==============================] - 0s 5ms/step - loss: 0.1393 - accuracy: 0.9659 - val_loss: 0.1466 - val_accuracy: 0.9309\n",
            "Epoch 47/100\n",
            "12/12 [==============================] - 0s 4ms/step - loss: 0.1376 - accuracy: 0.9659 - val_loss: 0.1448 - val_accuracy: 0.9362\n",
            "Epoch 48/100\n",
            "12/12 [==============================] - 0s 5ms/step - loss: 0.1361 - accuracy: 0.9659 - val_loss: 0.1431 - val_accuracy: 0.9415\n",
            "Epoch 49/100\n",
            "12/12 [==============================] - 0s 4ms/step - loss: 0.1346 - accuracy: 0.9659 - val_loss: 0.1414 - val_accuracy: 0.9415\n",
            "Epoch 50/100\n",
            "12/12 [==============================] - 0s 5ms/step - loss: 0.1332 - accuracy: 0.9659 - val_loss: 0.1397 - val_accuracy: 0.9415\n",
            "Epoch 51/100\n",
            "12/12 [==============================] - 0s 4ms/step - loss: 0.1318 - accuracy: 0.9659 - val_loss: 0.1382 - val_accuracy: 0.9415\n",
            "Epoch 52/100\n",
            "12/12 [==============================] - 0s 4ms/step - loss: 0.1305 - accuracy: 0.9659 - val_loss: 0.1368 - val_accuracy: 0.9415\n",
            "Epoch 53/100\n",
            "12/12 [==============================] - 0s 4ms/step - loss: 0.1292 - accuracy: 0.9659 - val_loss: 0.1353 - val_accuracy: 0.9415\n",
            "Epoch 54/100\n",
            "12/12 [==============================] - 0s 4ms/step - loss: 0.1280 - accuracy: 0.9659 - val_loss: 0.1338 - val_accuracy: 0.9415\n",
            "Epoch 55/100\n",
            "12/12 [==============================] - 0s 4ms/step - loss: 0.1268 - accuracy: 0.9659 - val_loss: 0.1323 - val_accuracy: 0.9415\n",
            "Epoch 56/100\n",
            "12/12 [==============================] - 0s 4ms/step - loss: 0.1257 - accuracy: 0.9685 - val_loss: 0.1310 - val_accuracy: 0.9415\n",
            "Epoch 57/100\n",
            "12/12 [==============================] - 0s 4ms/step - loss: 0.1246 - accuracy: 0.9711 - val_loss: 0.1296 - val_accuracy: 0.9415\n",
            "Epoch 58/100\n",
            "12/12 [==============================] - 0s 4ms/step - loss: 0.1234 - accuracy: 0.9711 - val_loss: 0.1284 - val_accuracy: 0.9415\n",
            "Epoch 59/100\n",
            "12/12 [==============================] - 0s 4ms/step - loss: 0.1224 - accuracy: 0.9711 - val_loss: 0.1272 - val_accuracy: 0.9468\n",
            "Epoch 60/100\n",
            "12/12 [==============================] - 0s 4ms/step - loss: 0.1214 - accuracy: 0.9711 - val_loss: 0.1259 - val_accuracy: 0.9468\n",
            "Epoch 61/100\n",
            "12/12 [==============================] - 0s 4ms/step - loss: 0.1204 - accuracy: 0.9738 - val_loss: 0.1248 - val_accuracy: 0.9521\n",
            "Epoch 62/100\n",
            "12/12 [==============================] - 0s 4ms/step - loss: 0.1194 - accuracy: 0.9738 - val_loss: 0.1237 - val_accuracy: 0.9521\n",
            "Epoch 63/100\n",
            "12/12 [==============================] - 0s 6ms/step - loss: 0.1185 - accuracy: 0.9738 - val_loss: 0.1225 - val_accuracy: 0.9521\n",
            "Epoch 64/100\n",
            "12/12 [==============================] - 0s 4ms/step - loss: 0.1176 - accuracy: 0.9738 - val_loss: 0.1214 - val_accuracy: 0.9521\n",
            "Epoch 65/100\n",
            "12/12 [==============================] - 0s 6ms/step - loss: 0.1167 - accuracy: 0.9738 - val_loss: 0.1203 - val_accuracy: 0.9521\n",
            "Epoch 66/100\n",
            "12/12 [==============================] - 0s 4ms/step - loss: 0.1159 - accuracy: 0.9738 - val_loss: 0.1192 - val_accuracy: 0.9521\n",
            "Epoch 67/100\n",
            "12/12 [==============================] - 0s 4ms/step - loss: 0.1151 - accuracy: 0.9738 - val_loss: 0.1181 - val_accuracy: 0.9521\n",
            "Epoch 68/100\n",
            "12/12 [==============================] - 0s 3ms/step - loss: 0.1142 - accuracy: 0.9738 - val_loss: 0.1171 - val_accuracy: 0.9521\n",
            "Epoch 69/100\n",
            "12/12 [==============================] - 0s 4ms/step - loss: 0.1134 - accuracy: 0.9738 - val_loss: 0.1162 - val_accuracy: 0.9521\n",
            "Epoch 70/100\n",
            "12/12 [==============================] - 0s 3ms/step - loss: 0.1127 - accuracy: 0.9738 - val_loss: 0.1152 - val_accuracy: 0.9574\n",
            "Epoch 71/100\n",
            "12/12 [==============================] - 0s 3ms/step - loss: 0.1119 - accuracy: 0.9738 - val_loss: 0.1143 - val_accuracy: 0.9574\n",
            "Epoch 72/100\n",
            "12/12 [==============================] - 0s 3ms/step - loss: 0.1112 - accuracy: 0.9738 - val_loss: 0.1134 - val_accuracy: 0.9574\n",
            "Epoch 73/100\n",
            "12/12 [==============================] - 0s 4ms/step - loss: 0.1105 - accuracy: 0.9738 - val_loss: 0.1125 - val_accuracy: 0.9628\n",
            "Epoch 74/100\n",
            "12/12 [==============================] - 0s 3ms/step - loss: 0.1098 - accuracy: 0.9738 - val_loss: 0.1116 - val_accuracy: 0.9628\n",
            "Epoch 75/100\n",
            "12/12 [==============================] - 0s 3ms/step - loss: 0.1092 - accuracy: 0.9738 - val_loss: 0.1108 - val_accuracy: 0.9628\n",
            "Epoch 76/100\n",
            "12/12 [==============================] - 0s 4ms/step - loss: 0.1085 - accuracy: 0.9711 - val_loss: 0.1099 - val_accuracy: 0.9628\n",
            "Epoch 77/100\n",
            "12/12 [==============================] - 0s 3ms/step - loss: 0.1078 - accuracy: 0.9711 - val_loss: 0.1090 - val_accuracy: 0.9681\n",
            "Epoch 78/100\n",
            "12/12 [==============================] - 0s 3ms/step - loss: 0.1072 - accuracy: 0.9711 - val_loss: 0.1083 - val_accuracy: 0.9681\n",
            "Epoch 79/100\n",
            "12/12 [==============================] - 0s 5ms/step - loss: 0.1066 - accuracy: 0.9711 - val_loss: 0.1075 - val_accuracy: 0.9681\n",
            "Epoch 80/100\n",
            "12/12 [==============================] - 0s 4ms/step - loss: 0.1060 - accuracy: 0.9711 - val_loss: 0.1068 - val_accuracy: 0.9681\n",
            "Epoch 81/100\n",
            "12/12 [==============================] - 0s 3ms/step - loss: 0.1054 - accuracy: 0.9711 - val_loss: 0.1060 - val_accuracy: 0.9681\n",
            "Epoch 82/100\n",
            "12/12 [==============================] - 0s 3ms/step - loss: 0.1048 - accuracy: 0.9711 - val_loss: 0.1053 - val_accuracy: 0.9734\n",
            "Epoch 83/100\n",
            "12/12 [==============================] - 0s 3ms/step - loss: 0.1042 - accuracy: 0.9711 - val_loss: 0.1046 - val_accuracy: 0.9734\n",
            "Epoch 84/100\n",
            "12/12 [==============================] - 0s 5ms/step - loss: 0.1037 - accuracy: 0.9711 - val_loss: 0.1038 - val_accuracy: 0.9734\n",
            "Epoch 85/100\n",
            "12/12 [==============================] - 0s 4ms/step - loss: 0.1032 - accuracy: 0.9711 - val_loss: 0.1031 - val_accuracy: 0.9734\n",
            "Epoch 86/100\n",
            "12/12 [==============================] - 0s 3ms/step - loss: 0.1026 - accuracy: 0.9711 - val_loss: 0.1026 - val_accuracy: 0.9734\n",
            "Epoch 87/100\n",
            "12/12 [==============================] - 0s 3ms/step - loss: 0.1021 - accuracy: 0.9711 - val_loss: 0.1019 - val_accuracy: 0.9734\n",
            "Epoch 88/100\n",
            "12/12 [==============================] - 0s 4ms/step - loss: 0.1016 - accuracy: 0.9711 - val_loss: 0.1012 - val_accuracy: 0.9734\n",
            "Epoch 89/100\n",
            "12/12 [==============================] - 0s 4ms/step - loss: 0.1012 - accuracy: 0.9711 - val_loss: 0.1004 - val_accuracy: 0.9734\n",
            "Epoch 90/100\n",
            "12/12 [==============================] - 0s 4ms/step - loss: 0.1006 - accuracy: 0.9711 - val_loss: 0.0999 - val_accuracy: 0.9734\n",
            "Epoch 91/100\n",
            "12/12 [==============================] - 0s 5ms/step - loss: 0.1001 - accuracy: 0.9711 - val_loss: 0.0993 - val_accuracy: 0.9734\n",
            "Epoch 92/100\n",
            "12/12 [==============================] - 0s 4ms/step - loss: 0.0997 - accuracy: 0.9711 - val_loss: 0.0988 - val_accuracy: 0.9734\n",
            "Epoch 93/100\n",
            "12/12 [==============================] - 0s 6ms/step - loss: 0.0992 - accuracy: 0.9711 - val_loss: 0.0982 - val_accuracy: 0.9734\n",
            "Epoch 94/100\n",
            "12/12 [==============================] - 0s 4ms/step - loss: 0.0988 - accuracy: 0.9711 - val_loss: 0.0976 - val_accuracy: 0.9734\n",
            "Epoch 95/100\n",
            "12/12 [==============================] - 0s 5ms/step - loss: 0.0983 - accuracy: 0.9711 - val_loss: 0.0969 - val_accuracy: 0.9734\n",
            "Epoch 96/100\n",
            "12/12 [==============================] - 0s 4ms/step - loss: 0.0979 - accuracy: 0.9711 - val_loss: 0.0964 - val_accuracy: 0.9734\n",
            "Epoch 97/100\n",
            "12/12 [==============================] - 0s 4ms/step - loss: 0.0975 - accuracy: 0.9711 - val_loss: 0.0959 - val_accuracy: 0.9734\n",
            "Epoch 98/100\n",
            "12/12 [==============================] - 0s 4ms/step - loss: 0.0971 - accuracy: 0.9738 - val_loss: 0.0953 - val_accuracy: 0.9734\n",
            "Epoch 99/100\n",
            "12/12 [==============================] - 0s 4ms/step - loss: 0.0967 - accuracy: 0.9738 - val_loss: 0.0947 - val_accuracy: 0.9734\n",
            "Epoch 100/100\n",
            "12/12 [==============================] - 0s 5ms/step - loss: 0.0963 - accuracy: 0.9738 - val_loss: 0.0941 - val_accuracy: 0.9734\n",
            "12/12 [==============================] - 0s 2ms/step - loss: 0.0960 - accuracy: 0.9738\n",
            "Train score: [0.09596829861402512, 0.9737532734870911]\n",
            "6/6 [==============================] - 0s 2ms/step - loss: 0.0941 - accuracy: 0.9734\n",
            "Test score: [0.09410620480775833, 0.9734042286872864]\n"
          ],
          "name": "stdout"
        }
      ]
    },
    {
      "cell_type": "code",
      "metadata": {
        "colab": {
          "base_uri": "https://localhost:8080/",
          "height": 282
        },
        "id": "DscY4KM1fhQ-",
        "outputId": "ed00afc0-c3c1-452c-f876-78967f57b946"
      },
      "source": [
        "#Plot loss\n",
        "import matplotlib.pyplot as plt\n",
        "plt.plot(r.history['loss'], label='loss')\n",
        "plt.plot(r.history['val_loss'], label='val_loss')\n",
        "plt.legend()"
      ],
      "execution_count": null,
      "outputs": [
        {
          "output_type": "execute_result",
          "data": {
            "text/plain": [
              "<matplotlib.legend.Legend at 0x7f76a3d19a50>"
            ]
          },
          "metadata": {
            "tags": []
          },
          "execution_count": 20
        },
        {
          "output_type": "display_data",
          "data": {
            "image/png": "[encoded data removed]",
            "text/plain": [
              "<Figure size 432x288 with 1 Axes>"
            ]
          },
          "metadata": {
            "tags": [],
            "needs_background": "light"
          }
        }
      ]
    },
    {
      "cell_type": "code",
      "metadata": {
        "colab": {
          "base_uri": "https://localhost:8080/",
          "height": 282
        },
        "id": "fRxeVKVDgRup",
        "outputId": "e75d90f1-d709-44e1-d1fa-eeaed75be658"
      },
      "source": [
        "#Plot accuracy\n",
        "import matplotlib.pyplot as plt\n",
        "plt.plot(r.history['accuracy'], label='accuracy')\n",
        "plt.plot(r.history['val_accuracy'], label='val_accuracy')\n",
        "plt.legend()"
      ],
      "execution_count": null,
      "outputs": [
        {
          "output_type": "execute_result",
          "data": {
            "text/plain": [
              "<matplotlib.legend.Legend at 0x7f76a3d19a10>"
            ]
          },
          "metadata": {
            "tags": []
          },
          "execution_count": 21
        },
        {
          "output_type": "display_data",
          "data": {
            "image/png": "[encoded data removed]",
            "text/plain": [
              "<Figure size 432x288 with 1 Axes>"
            ]
          },
          "metadata": {
            "tags": [],
            "needs_background": "light"
          }
        }
      ]
    }
  ]
}