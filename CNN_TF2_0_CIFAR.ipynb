{
  "nbformat": 4,
  "nbformat_minor": 0,
  "metadata": {
    "accelerator": "GPU",
    "colab": {
      "name": "CNN TF2.0 CIFAR.ipynb",
      "provenance": [],
      "collapsed_sections": [],
      "include_colab_link": true
    },
    "kernelspec": {
      "display_name": "Python 3",
      "name": "python3"
    }
  },
  "cells": [
    {
      "cell_type": "markdown",
      "metadata": {
        "id": "view-in-github",
        "colab_type": "text"
      },
      "source": [
        "<a href=\"https://colab.research.google.com/github/Yashvishe13/Deep-Learning/blob/main/CNN_TF2_0_CIFAR.ipynb\" target=\"_parent\"><img src=\"https://colab.research.google.com/assets/colab-badge.svg\" alt=\"Open In Colab\"/></a>"
      ]
    },
    {
      "cell_type": "code",
      "metadata": {
        "id": "cBJh6ib6MEIW"
      },
      "source": [
        "# Library imports\n",
        "import tensorflow as tf\n",
        "import numpy as np\n",
        "import matplotlib.pyplot as plt\n",
        "from tensorflow.keras.layers import Input, Conv2D, Dense, Flatten, Dropout, GlobalMaxPooling2D, MaxPooling2D, BatchNormalization\n",
        "from tensorflow.keras.models import Model"
      ],
      "execution_count": null,
      "outputs": []
    },
    {
      "cell_type": "code",
      "metadata": {
        "colab": {
          "base_uri": "https://localhost:8080/"
        },
        "id": "H_EGZv1TL4S_",
        "outputId": "e1963e74-2be7-41b7-e308-76a1412e76a8"
      },
      "source": [
        "# Load in the data\n",
        "cifar10 = tf.keras.datasets.cifar10\n",
        "\n",
        "(x_train, y_train), (x_test, y_test) = cifar10.load_data()\n",
        "x_train, x_test = x_train / 255.0, x_test / 255.0\n",
        "y_train, y_test = y_train.flatten(), y_test.flatten()\n",
        "print(\"x_train.shape:\", x_train.shape)\n",
        "print(\"y_train.shape\", y_train.shape)"
      ],
      "execution_count": null,
      "outputs": [
        {
          "output_type": "stream",
          "name": "stdout",
          "text": [
            "Downloading data from https://www.cs.toronto.edu/~kriz/cifar-10-python.tar.gz\n",
            "170500096/170498071 [==============================] - 2s 0us/step\n",
            "170508288/170498071 [==============================] - 2s 0us/step\n",
            "x_train.shape: (50000, 32, 32, 3)\n",
            "y_train.shape (50000,)\n"
          ]
        }
      ]
    },
    {
      "cell_type": "code",
      "metadata": {
        "colab": {
          "base_uri": "https://localhost:8080/"
        },
        "id": "1Wr15bYpMwbB",
        "outputId": "c1ee21c0-0dd2-40ed-e3eb-7bf481a4abb7"
      },
      "source": [
        "# number of classes\n",
        "K = len(set(y_train))\n",
        "print(\"number of classes:\", K)"
      ],
      "execution_count": null,
      "outputs": [
        {
          "output_type": "stream",
          "name": "stdout",
          "text": [
            "number of classes: 10\n"
          ]
        }
      ]
    },
    {
      "cell_type": "code",
      "metadata": {
        "id": "Mmo66uQoMA1Q"
      },
      "source": [
        "# Build the model using the functional API\n",
        "i = Input(shape=x_train[0].shape)\n",
        "# x = Conv2D(32, (3, 3), strides=2, activation='relu')(i)\n",
        "# x = Conv2D(64, (3, 3), strides=2, activation='relu')(x)\n",
        "# x = Conv2D(128, (3, 3), strides=2, activation='relu')(x)\n",
        "\n",
        "x = Conv2D(32, (3, 3), activation='relu', padding='same')(i)\n",
        "x = BatchNormalization()(x)\n",
        "# x = MaxPooling2D((2, 2))(x)\n",
        "x = Conv2D(32, (3, 3), activation='relu', padding='same')(x)\n",
        "x = BatchNormalization()(x)\n",
        "# x = MaxPooling2D((2, 2))(x)\n",
        "# x = Dropout(0.2)(x)\n",
        "x = Conv2D(64, (3, 3), activation='relu', padding='same')(x)\n",
        "x = MaxPooling2D((2, 2))(x)\n",
        "x = BatchNormalization()(x)\n",
        "x = Conv2D(64, (3, 3), activation='relu', padding='same')(x)\n",
        "x = BatchNormalization()(x)\n",
        "x = MaxPooling2D((2, 2))(x)\n",
        "# x = Dropout(0.2)(x)\n",
        "x = Conv2D(128, (3, 3), activation='relu', padding='same')(x)\n",
        "x = BatchNormalization()(x)\n",
        "x = Conv2D(128, (3, 3), activation='relu', padding='same')(x)\n",
        "x = BatchNormalization()(x)\n",
        "x = MaxPooling2D((2, 2))(x)\n",
        "x = Dropout(0.2)(x)\n",
        "\n",
        "# x = GlobalMaxPooling2D()(x)\n",
        "x = Flatten()(x)\n",
        "x = Dropout(0.2)(x)\n",
        "x = Dense(1024, activation='relu')(x)\n",
        "x = Dropout(0.2)(x)\n",
        "x = Dense(K, activation='softmax')(x)\n",
        "\n",
        "model = Model(i, x)"
      ],
      "execution_count": null,
      "outputs": []
    },
    {
      "cell_type": "code",
      "metadata": {
        "id": "0zF9n0P7NcP-"
      },
      "source": [
        "# Compile\n",
        "model.compile(optimizer='adam',\n",
        "              loss='sparse_categorical_crossentropy',\n",
        "              metrics=['accuracy'])"
      ],
      "execution_count": null,
      "outputs": []
    },
    {
      "cell_type": "code",
      "metadata": {
        "id": "BBzAGEjOkvFz"
      },
      "source": [
        "# Fit\n",
        "r = model.fit(x_train, y_train, validation_data=(x_test, y_test), epochs=50)"
      ],
      "execution_count": null,
      "outputs": []
    },
    {
      "cell_type": "code",
      "metadata": {
        "colab": {
          "base_uri": "https://localhost:8080/"
        },
        "id": "af61hXUrYjsZ",
        "outputId": "a62a709d-3525-43d1-fc12-9f511bbc4365"
      },
      "source": [
        "# Fit with data augmentation\n",
        "# Note: if you run this AFTER calling the previous model.fit(), it will CONTINUE training where it left off\n",
        "batch_size = 64\n",
        "data_generator = tf.keras.preprocessing.image.ImageDataGenerator(width_shift_range=0.1, height_shift_range=0.1, horizontal_flip=True)\n",
        "train_generator = data_generator.flow(x_train, y_train, batch_size)\n",
        "steps_per_epoch = x_train.shape[0] // batch_size\n",
        "r = model.fit(train_generator, validation_data=(x_test, y_test), steps_per_epoch=steps_per_epoch, epochs=50)"
      ],
      "execution_count": null,
      "outputs": [
        {
          "output_type": "stream",
          "name": "stdout",
          "text": [
            "Epoch 1/50\n",
            "781/781 [==============================] - 48s 60ms/step - loss: 1.4621 - accuracy: 0.4955 - val_loss: 0.9995 - val_accuracy: 0.6427\n",
            "Epoch 2/50\n",
            "781/781 [==============================] - 47s 60ms/step - loss: 0.9802 - accuracy: 0.6532 - val_loss: 0.9227 - val_accuracy: 0.6866\n",
            "Epoch 3/50\n",
            "781/781 [==============================] - 47s 60ms/step - loss: 0.8385 - accuracy: 0.7055 - val_loss: 0.7831 - val_accuracy: 0.7347\n",
            "Epoch 4/50\n",
            "781/781 [==============================] - 46s 59ms/step - loss: 0.7505 - accuracy: 0.7397 - val_loss: 0.6997 - val_accuracy: 0.7598\n",
            "Epoch 5/50\n",
            "781/781 [==============================] - 46s 59ms/step - loss: 0.6995 - accuracy: 0.7601 - val_loss: 0.7434 - val_accuracy: 0.7485\n",
            "Epoch 6/50\n",
            "781/781 [==============================] - 46s 59ms/step - loss: 0.6432 - accuracy: 0.7803 - val_loss: 0.6464 - val_accuracy: 0.7846\n",
            "Epoch 7/50\n",
            "781/781 [==============================] - 45s 58ms/step - loss: 0.6052 - accuracy: 0.7941 - val_loss: 0.6652 - val_accuracy: 0.7778\n",
            "Epoch 8/50\n",
            "781/781 [==============================] - 46s 58ms/step - loss: 0.5693 - accuracy: 0.8066 - val_loss: 0.5673 - val_accuracy: 0.8108\n",
            "Epoch 9/50\n",
            "781/781 [==============================] - 44s 57ms/step - loss: 0.5462 - accuracy: 0.8155 - val_loss: 0.5621 - val_accuracy: 0.8127\n",
            "Epoch 10/50\n",
            "781/781 [==============================] - 43s 55ms/step - loss: 0.5158 - accuracy: 0.8257 - val_loss: 0.5972 - val_accuracy: 0.8023\n",
            "Epoch 11/50\n",
            "781/781 [==============================] - 45s 57ms/step - loss: 0.4936 - accuracy: 0.8302 - val_loss: 0.4935 - val_accuracy: 0.8328\n",
            "Epoch 12/50\n",
            "781/781 [==============================] - 44s 56ms/step - loss: 0.4726 - accuracy: 0.8393 - val_loss: 0.5093 - val_accuracy: 0.8306\n",
            "Epoch 13/50\n",
            "781/781 [==============================] - 44s 57ms/step - loss: 0.4575 - accuracy: 0.8422 - val_loss: 0.4865 - val_accuracy: 0.8352\n",
            "Epoch 14/50\n",
            "781/781 [==============================] - 44s 56ms/step - loss: 0.4380 - accuracy: 0.8508 - val_loss: 0.4684 - val_accuracy: 0.8415\n",
            "Epoch 15/50\n",
            "781/781 [==============================] - 44s 56ms/step - loss: 0.4213 - accuracy: 0.8562 - val_loss: 0.4755 - val_accuracy: 0.8404\n",
            "Epoch 16/50\n",
            "781/781 [==============================] - 42s 54ms/step - loss: 0.4059 - accuracy: 0.8595 - val_loss: 0.4366 - val_accuracy: 0.8543\n",
            "Epoch 17/50\n",
            "781/781 [==============================] - 43s 55ms/step - loss: 0.3916 - accuracy: 0.8669 - val_loss: 0.4302 - val_accuracy: 0.8565\n",
            "Epoch 18/50\n",
            "781/781 [==============================] - 45s 58ms/step - loss: 0.3860 - accuracy: 0.8675 - val_loss: 0.4527 - val_accuracy: 0.8520\n",
            "Epoch 19/50\n",
            "781/781 [==============================] - 45s 58ms/step - loss: 0.3706 - accuracy: 0.8737 - val_loss: 0.4870 - val_accuracy: 0.8425\n",
            "Epoch 20/50\n",
            "781/781 [==============================] - 44s 57ms/step - loss: 0.3554 - accuracy: 0.8794 - val_loss: 0.4144 - val_accuracy: 0.8617\n",
            "Epoch 21/50\n",
            "781/781 [==============================] - 44s 57ms/step - loss: 0.3438 - accuracy: 0.8818 - val_loss: 0.4238 - val_accuracy: 0.8615\n",
            "Epoch 22/50\n",
            "781/781 [==============================] - 45s 57ms/step - loss: 0.3342 - accuracy: 0.8850 - val_loss: 0.4254 - val_accuracy: 0.8633\n",
            "Epoch 23/50\n",
            "781/781 [==============================] - 45s 58ms/step - loss: 0.3273 - accuracy: 0.8874 - val_loss: 0.4148 - val_accuracy: 0.8659\n",
            "Epoch 24/50\n",
            "781/781 [==============================] - 45s 58ms/step - loss: 0.3172 - accuracy: 0.8901 - val_loss: 0.4173 - val_accuracy: 0.8617\n",
            "Epoch 25/50\n",
            "781/781 [==============================] - 45s 57ms/step - loss: 0.3076 - accuracy: 0.8935 - val_loss: 0.3991 - val_accuracy: 0.8686\n",
            "Epoch 26/50\n",
            "781/781 [==============================] - 44s 56ms/step - loss: 0.3017 - accuracy: 0.8960 - val_loss: 0.4366 - val_accuracy: 0.8667\n",
            "Epoch 27/50\n",
            "781/781 [==============================] - 44s 56ms/step - loss: 0.2962 - accuracy: 0.8975 - val_loss: 0.4217 - val_accuracy: 0.8633\n",
            "Epoch 28/50\n",
            "781/781 [==============================] - 43s 55ms/step - loss: 0.2878 - accuracy: 0.9010 - val_loss: 0.3886 - val_accuracy: 0.8720\n",
            "Epoch 29/50\n",
            "781/781 [==============================] - 42s 54ms/step - loss: 0.2802 - accuracy: 0.9027 - val_loss: 0.3727 - val_accuracy: 0.8763\n",
            "Epoch 30/50\n",
            "781/781 [==============================] - 40s 52ms/step - loss: 0.2743 - accuracy: 0.9058 - val_loss: 0.3800 - val_accuracy: 0.8787\n",
            "Epoch 31/50\n",
            "781/781 [==============================] - 39s 50ms/step - loss: 0.2659 - accuracy: 0.9072 - val_loss: 0.3842 - val_accuracy: 0.8754\n",
            "Epoch 32/50\n",
            "781/781 [==============================] - 42s 54ms/step - loss: 0.2616 - accuracy: 0.9093 - val_loss: 0.3739 - val_accuracy: 0.8814\n",
            "Epoch 33/50\n",
            "781/781 [==============================] - 45s 57ms/step - loss: 0.2548 - accuracy: 0.9115 - val_loss: 0.4113 - val_accuracy: 0.8670\n",
            "Epoch 34/50\n",
            "781/781 [==============================] - 43s 56ms/step - loss: 0.2519 - accuracy: 0.9115 - val_loss: 0.3705 - val_accuracy: 0.8819\n",
            "Epoch 35/50\n",
            "781/781 [==============================] - 42s 54ms/step - loss: 0.2480 - accuracy: 0.9143 - val_loss: 0.4029 - val_accuracy: 0.8738\n",
            "Epoch 36/50\n",
            "781/781 [==============================] - 44s 56ms/step - loss: 0.2350 - accuracy: 0.9187 - val_loss: 0.3863 - val_accuracy: 0.8760\n",
            "Epoch 37/50\n",
            "781/781 [==============================] - 43s 56ms/step - loss: 0.2347 - accuracy: 0.9185 - val_loss: 0.3986 - val_accuracy: 0.8740\n",
            "Epoch 38/50\n",
            "781/781 [==============================] - 41s 53ms/step - loss: 0.2319 - accuracy: 0.9201 - val_loss: 0.4241 - val_accuracy: 0.8673\n",
            "Epoch 39/50\n",
            "781/781 [==============================] - 39s 50ms/step - loss: 0.2271 - accuracy: 0.9205 - val_loss: 0.3668 - val_accuracy: 0.8855\n",
            "Epoch 40/50\n",
            "781/781 [==============================] - 41s 53ms/step - loss: 0.2251 - accuracy: 0.9216 - val_loss: 0.3972 - val_accuracy: 0.8779\n",
            "Epoch 41/50\n",
            "781/781 [==============================] - 47s 60ms/step - loss: 0.2193 - accuracy: 0.9241 - val_loss: 0.3477 - val_accuracy: 0.8887\n",
            "Epoch 42/50\n",
            "781/781 [==============================] - 47s 60ms/step - loss: 0.2122 - accuracy: 0.9268 - val_loss: 0.3666 - val_accuracy: 0.8897\n",
            "Epoch 43/50\n",
            "781/781 [==============================] - 47s 60ms/step - loss: 0.2094 - accuracy: 0.9277 - val_loss: 0.3571 - val_accuracy: 0.8889\n",
            "Epoch 44/50\n",
            "781/781 [==============================] - 47s 60ms/step - loss: 0.2015 - accuracy: 0.9297 - val_loss: 0.3626 - val_accuracy: 0.8833\n",
            "Epoch 45/50\n",
            "781/781 [==============================] - 47s 60ms/step - loss: 0.2053 - accuracy: 0.9294 - val_loss: 0.3757 - val_accuracy: 0.8845\n",
            "Epoch 46/50\n",
            "781/781 [==============================] - 48s 62ms/step - loss: 0.1969 - accuracy: 0.9325 - val_loss: 0.3781 - val_accuracy: 0.8825\n",
            "Epoch 47/50\n",
            "781/781 [==============================] - 48s 61ms/step - loss: 0.1969 - accuracy: 0.9314 - val_loss: 0.4100 - val_accuracy: 0.8723\n",
            "Epoch 48/50\n",
            "781/781 [==============================] - 48s 61ms/step - loss: 0.1944 - accuracy: 0.9315 - val_loss: 0.3669 - val_accuracy: 0.8874\n",
            "Epoch 49/50\n",
            "781/781 [==============================] - 48s 62ms/step - loss: 0.1917 - accuracy: 0.9332 - val_loss: 0.3824 - val_accuracy: 0.8885\n",
            "Epoch 50/50\n",
            "781/781 [==============================] - 47s 60ms/step - loss: 0.1881 - accuracy: 0.9347 - val_loss: 0.3708 - val_accuracy: 0.8861\n"
          ]
        }
      ]
    },
    {
      "cell_type": "code",
      "metadata": {
        "colab": {
          "base_uri": "https://localhost:8080/",
          "height": 282
        },
        "id": "ML37hw4iOkBm",
        "outputId": "d86af15f-a4b9-453d-def6-03601efd0612"
      },
      "source": [
        "# Plot loss per iteration\n",
        "import matplotlib.pyplot as plt\n",
        "plt.plot(r.history['loss'], label='loss')\n",
        "plt.plot(r.history['val_loss'], label='val_loss')\n",
        "plt.legend()"
      ],
      "execution_count": null,
      "outputs": [
        {
          "output_type": "execute_result",
          "data": {
            "text/plain": [
              "<matplotlib.legend.Legend at 0x7fb048fca9d0>"
            ]
          },
          "metadata": {},
          "execution_count": 10
        },
        {
          "output_type": "display_data",
          "data": {
            "image/png": "[encoded data removed]",
            "text/plain": [
              "<Figure size 432x288 with 1 Axes>"
            ]
          },
          "metadata": {
            "needs_background": "light"
          }
        }
      ]
    },
    {
      "cell_type": "code",
      "metadata": {
        "colab": {
          "base_uri": "https://localhost:8080/",
          "height": 282
        },
        "id": "pemstSDIOpIb",
        "outputId": "e8020de9-448d-4716-9218-3a8430c2a55f"
      },
      "source": [
        "# Plot accuracy per iteration\n",
        "plt.plot(r.history['accuracy'], label='acc')\n",
        "plt.plot(r.history['val_accuracy'], label='val_acc')\n",
        "plt.legend()"
      ],
      "execution_count": null,
      "outputs": [
        {
          "output_type": "execute_result",
          "data": {
            "text/plain": [
              "<matplotlib.legend.Legend at 0x7fb049a1ae50>"
            ]
          },
          "metadata": {},
          "execution_count": 11
        },
        {
          "output_type": "display_data",
          "data": {
            "image/png": "[encoded data removed]",
            "text/plain": [
              "<Figure size 432x288 with 1 Axes>"
            ]
          },
          "metadata": {
            "needs_background": "light"
          }
        }
      ]
    },
    {
      "cell_type": "code",
      "metadata": {
        "colab": {
          "base_uri": "https://localhost:8080/",
          "height": 496
        },
        "id": "2LJTd4OiO6kL",
        "outputId": "012b0949-5c6c-4163-fab9-1f160946c8e9"
      },
      "source": [
        "# Plot confusion matrix\n",
        "from sklearn.metrics import confusion_matrix\n",
        "import itertools\n",
        "\n",
        "def plot_confusion_matrix(cm, classes,\n",
        "                          normalize=False,\n",
        "                          title='Confusion matrix',\n",
        "                          cmap=plt.cm.Blues):\n",
        "  \"\"\"\n",
        "  This function prints and plots the confusion matrix.\n",
        "  Normalization can be applied by setting `normalize=True`.\n",
        "  \"\"\"\n",
        "  if normalize:\n",
        "      cm = cm.astype('float') / cm.sum(axis=1)[:, np.newaxis]\n",
        "      print(\"Normalized confusion matrix\")\n",
        "  else:\n",
        "      print('Confusion matrix, without normalization')\n",
        "\n",
        "  print(cm)\n",
        "\n",
        "  plt.imshow(cm, interpolation='nearest', cmap=cmap)\n",
        "  plt.title(title)\n",
        "  plt.colorbar()\n",
        "  tick_marks = np.arange(len(classes))\n",
        "  plt.xticks(tick_marks, classes, rotation=45)\n",
        "  plt.yticks(tick_marks, classes)\n",
        "\n",
        "  fmt = '.2f' if normalize else 'd'\n",
        "  thresh = cm.max() / 2.\n",
        "  for i, j in itertools.product(range(cm.shape[0]), range(cm.shape[1])):\n",
        "      plt.text(j, i, format(cm[i, j], fmt),\n",
        "               horizontalalignment=\"center\",\n",
        "               color=\"white\" if cm[i, j] > thresh else \"black\")\n",
        "\n",
        "  plt.tight_layout()\n",
        "  plt.ylabel('True label')\n",
        "  plt.xlabel('Predicted label')\n",
        "  plt.show()\n",
        "\n",
        "\n",
        "p_test = model.predict(x_test).argmax(axis=1)\n",
        "cm = confusion_matrix(y_test, p_test)\n",
        "plot_confusion_matrix(cm, list(range(10)))\n",
        "\n"
      ],
      "execution_count": null,
      "outputs": [
        {
          "output_type": "stream",
          "name": "stdout",
          "text": [
            "Confusion matrix, without normalization\n",
            "[[930   8  13  13   4   0   7   0  21   4]\n",
            " [  5 971   1   1   1   0   3   0   3  15]\n",
            " [ 35   0 821  52  25  10  45   4   4   4]\n",
            " [ 10   2  18 845  12  47  52   6   5   3]\n",
            " [ 12   1  24  46 854  12  45   5   1   0]\n",
            " [  3   0  15 151  17 774  23  13   2   2]\n",
            " [  2   1   9  24   2   2 958   0   1   1]\n",
            " [  7   0  11  42  26  18   8 881   1   6]\n",
            " [ 36  11   5   5   2   0   3   1 929   8]\n",
            " [ 25  58   2   4   0   0   2   1  10 898]]\n"
          ]
        },
        {
          "output_type": "display_data",
          "data": {
            "image/png": "[encoded data removed]",
            "text/plain": [
              "<Figure size 432x288 with 2 Axes>"
            ]
          },
          "metadata": {
            "needs_background": "light"
          }
        }
      ]
    },
    {
      "cell_type": "code",
      "metadata": {
        "id": "AgQqQHXNXDgw"
      },
      "source": [
        "# label mapping\n",
        "labels = '''airplane\n",
        "automobile\n",
        "bird\n",
        "cat\n",
        "deer\n",
        "dog\n",
        "frog\n",
        "horse\n",
        "ship\n",
        "truck'''.split()"
      ],
      "execution_count": null,
      "outputs": []
    },
    {
      "cell_type": "code",
      "metadata": {
        "colab": {
          "base_uri": "https://localhost:8080/",
          "height": 281
        },
        "id": "jjmW4STFO-Ny",
        "outputId": "1c4b67d6-12ac-4a28-be24-5f5a03a8efad"
      },
      "source": [
        "# Show some misclassified examples\n",
        "misclassified_idx = np.where(p_test != y_test)[0]\n",
        "i = np.random.choice(misclassified_idx)\n",
        "plt.imshow(x_test[i], cmap='gray')\n",
        "plt.title(\"True label: %s Predicted: %s\" % (labels[y_test[i]], labels[p_test[i]]));"
      ],
      "execution_count": null,
      "outputs": [
        {
          "output_type": "display_data",
          "data": {
            "image/png": "[encoded data removed]",
            "text/plain": [
              "<Figure size 432x288 with 1 Axes>"
            ]
          },
          "metadata": {
            "needs_background": "light"
          }
        }
      ]
    },
    {
      "cell_type": "code",
      "metadata": {
        "colab": {
          "base_uri": "https://localhost:8080/",
          "height": 867
        },
        "id": "qNw6PmshWjoZ",
        "outputId": "2c6b2193-df37-4083-8f74-a22733ec65f3"
      },
      "source": [
        "# Now that the model is so large, it's useful to summarize it\n",
        "model.summary()"
      ],
      "execution_count": null,
      "outputs": [
        {
          "name": "stdout",
          "output_type": "stream",
          "text": [
            "Model: \"model\"\n",
            "_________________________________________________________________\n",
            "Layer (type)                 Output Shape              Param #   \n",
            "=================================================================\n",
            "input_1 (InputLayer)         [(None, 32, 32, 3)]       0         \n",
            "_________________________________________________________________\n",
            "conv2d (Conv2D)              (None, 32, 32, 32)        896       \n",
            "_________________________________________________________________\n",
            "batch_normalization (BatchNo (None, 32, 32, 32)        128       \n",
            "_________________________________________________________________\n",
            "conv2d_1 (Conv2D)            (None, 32, 32, 32)        9248      \n",
            "_________________________________________________________________\n",
            "batch_normalization_1 (Batch (None, 32, 32, 32)        128       \n",
            "_________________________________________________________________\n",
            "max_pooling2d (MaxPooling2D) (None, 16, 16, 32)        0         \n",
            "_________________________________________________________________\n",
            "conv2d_2 (Conv2D)            (None, 16, 16, 64)        18496     \n",
            "_________________________________________________________________\n",
            "batch_normalization_2 (Batch (None, 16, 16, 64)        256       \n",
            "_________________________________________________________________\n",
            "conv2d_3 (Conv2D)            (None, 16, 16, 64)        36928     \n",
            "_________________________________________________________________\n",
            "batch_normalization_3 (Batch (None, 16, 16, 64)        256       \n",
            "_________________________________________________________________\n",
            "max_pooling2d_1 (MaxPooling2 (None, 8, 8, 64)          0         \n",
            "_________________________________________________________________\n",
            "conv2d_4 (Conv2D)            (None, 8, 8, 128)         73856     \n",
            "_________________________________________________________________\n",
            "batch_normalization_4 (Batch (None, 8, 8, 128)         512       \n",
            "_________________________________________________________________\n",
            "conv2d_5 (Conv2D)            (None, 8, 8, 128)         147584    \n",
            "_________________________________________________________________\n",
            "batch_normalization_5 (Batch (None, 8, 8, 128)         512       \n",
            "_________________________________________________________________\n",
            "max_pooling2d_2 (MaxPooling2 (None, 4, 4, 128)         0         \n",
            "_________________________________________________________________\n",
            "flatten (Flatten)            (None, 2048)              0         \n",
            "_________________________________________________________________\n",
            "dropout (Dropout)            (None, 2048)              0         \n",
            "_________________________________________________________________\n",
            "dense (Dense)                (None, 1024)              2098176   \n",
            "_________________________________________________________________\n",
            "dropout_1 (Dropout)          (None, 1024)              0         \n",
            "_________________________________________________________________\n",
            "dense_1 (Dense)              (None, 10)                10250     \n",
            "=================================================================\n",
            "Total params: 2,397,226\n",
            "Trainable params: 2,396,330\n",
            "Non-trainable params: 896\n",
            "_________________________________________________________________\n"
          ]
        }
      ]
    }
  ]
}