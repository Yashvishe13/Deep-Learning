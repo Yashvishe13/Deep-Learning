{
  "cells": [
    {
      "cell_type": "markdown",
      "metadata": {
        "id": "view-in-github",
        "colab_type": "text"
      },
      "source": [
        "<a href=\"https://colab.research.google.com/github/Yashvishe13/Deep-Learning/blob/main/book_recommendation_system.ipynb\" target=\"_parent\"><img src=\"https://colab.research.google.com/assets/colab-badge.svg\" alt=\"Open In Colab\"/></a>"
      ]
    },
    {
      "cell_type": "code",
      "execution_count": null,
      "metadata": {
        "id": "Qee8k_K2FSPr"
      },
      "outputs": [],
      "source": [
        "# Importing required Libraries\n",
        "import pandas as pd\n",
        "import numpy as np\n",
        "import pandas as pd\n",
        "import numpy as np\n",
        "from nltk.corpus import stopwords\n",
        "from sklearn.metrics.pairwise import linear_kernel\n",
        "from sklearn.feature_extraction.text import CountVectorizer\n",
        "from sklearn.feature_extraction.text import TfidfVectorizer\n",
        "from nltk.tokenize import RegexpTokenizer\n",
        "import re\n",
        "import string\n",
        "import random\n",
        "from PIL import Image\n",
        "import requests\n",
        "from io import BytesIO\n",
        "from skimage import io\n",
        "import matplotlib.pyplot as plt\n",
        "%matplotlib inline"
      ]
    },
    {
      "cell_type": "code",
      "execution_count": null,
      "metadata": {
        "id": "3Av2txsLFSPu"
      },
      "outputs": [],
      "source": [
        "# Loading dataset\n",
        "books_df = pd.read_csv('dataset/Preprocessed_data.csv')"
      ]
    },
    {
      "cell_type": "code",
      "execution_count": null,
      "metadata": {
        "id": "v9MCF0dnFSPu",
        "outputId": "609daa87-d920-4cec-bdf0-7d5115c41a45"
      },
      "outputs": [
        {
          "data": {
            "text/html": [
              "<div>\n",
              "<style scoped>\n",
              "    .dataframe tbody tr th:only-of-type {\n",
              "        vertical-align: middle;\n",
              "    }\n",
              "\n",
              "    .dataframe tbody tr th {\n",
              "        vertical-align: top;\n",
              "    }\n",
              "\n",
              "    .dataframe thead th {\n",
              "        text-align: right;\n",
              "    }\n",
              "</style>\n",
              "<table border=\"1\" class=\"dataframe\">\n",
              "  <thead>\n",
              "    <tr style=\"text-align: right;\">\n",
              "      <th></th>\n",
              "      <th>Unnamed: 0</th>\n",
              "      <th>user_id</th>\n",
              "      <th>location</th>\n",
              "      <th>age</th>\n",
              "      <th>isbn</th>\n",
              "      <th>rating</th>\n",
              "      <th>book_title</th>\n",
              "      <th>book_author</th>\n",
              "      <th>year_of_publication</th>\n",
              "      <th>publisher</th>\n",
              "      <th>img_s</th>\n",
              "      <th>img_m</th>\n",
              "      <th>img_l</th>\n",
              "      <th>Summary</th>\n",
              "      <th>Language</th>\n",
              "      <th>Category</th>\n",
              "      <th>city</th>\n",
              "      <th>state</th>\n",
              "      <th>country</th>\n",
              "    </tr>\n",
              "  </thead>\n",
              "  <tbody>\n",
              "    <tr>\n",
              "      <th>0</th>\n",
              "      <td>0</td>\n",
              "      <td>2</td>\n",
              "      <td>stockton, california, usa</td>\n",
              "      <td>18.0000</td>\n",
              "      <td>0195153448</td>\n",
              "      <td>0</td>\n",
              "      <td>Classical Mythology</td>\n",
              "      <td>Mark P. O. Morford</td>\n",
              "      <td>2002.0</td>\n",
              "      <td>Oxford University Press</td>\n",
              "      <td>http://images.amazon.com/images/P/0195153448.0...</td>\n",
              "      <td>http://images.amazon.com/images/P/0195153448.0...</td>\n",
              "      <td>http://images.amazon.com/images/P/0195153448.0...</td>\n",
              "      <td>Provides an introduction to classical myths pl...</td>\n",
              "      <td>en</td>\n",
              "      <td>['Social Science']</td>\n",
              "      <td>stockton</td>\n",
              "      <td>california</td>\n",
              "      <td>usa</td>\n",
              "    </tr>\n",
              "    <tr>\n",
              "      <th>1</th>\n",
              "      <td>1</td>\n",
              "      <td>8</td>\n",
              "      <td>timmins, ontario, canada</td>\n",
              "      <td>34.7439</td>\n",
              "      <td>0002005018</td>\n",
              "      <td>5</td>\n",
              "      <td>Clara Callan</td>\n",
              "      <td>Richard Bruce Wright</td>\n",
              "      <td>2001.0</td>\n",
              "      <td>HarperFlamingo Canada</td>\n",
              "      <td>http://images.amazon.com/images/P/0002005018.0...</td>\n",
              "      <td>http://images.amazon.com/images/P/0002005018.0...</td>\n",
              "      <td>http://images.amazon.com/images/P/0002005018.0...</td>\n",
              "      <td>In a small town in Canada, Clara Callan reluct...</td>\n",
              "      <td>en</td>\n",
              "      <td>['Actresses']</td>\n",
              "      <td>timmins</td>\n",
              "      <td>ontario</td>\n",
              "      <td>canada</td>\n",
              "    </tr>\n",
              "    <tr>\n",
              "      <th>2</th>\n",
              "      <td>2</td>\n",
              "      <td>11400</td>\n",
              "      <td>ottawa, ontario, canada</td>\n",
              "      <td>49.0000</td>\n",
              "      <td>0002005018</td>\n",
              "      <td>0</td>\n",
              "      <td>Clara Callan</td>\n",
              "      <td>Richard Bruce Wright</td>\n",
              "      <td>2001.0</td>\n",
              "      <td>HarperFlamingo Canada</td>\n",
              "      <td>http://images.amazon.com/images/P/0002005018.0...</td>\n",
              "      <td>http://images.amazon.com/images/P/0002005018.0...</td>\n",
              "      <td>http://images.amazon.com/images/P/0002005018.0...</td>\n",
              "      <td>In a small town in Canada, Clara Callan reluct...</td>\n",
              "      <td>en</td>\n",
              "      <td>['Actresses']</td>\n",
              "      <td>ottawa</td>\n",
              "      <td>ontario</td>\n",
              "      <td>canada</td>\n",
              "    </tr>\n",
              "    <tr>\n",
              "      <th>3</th>\n",
              "      <td>3</td>\n",
              "      <td>11676</td>\n",
              "      <td>n/a, n/a, n/a</td>\n",
              "      <td>34.7439</td>\n",
              "      <td>0002005018</td>\n",
              "      <td>8</td>\n",
              "      <td>Clara Callan</td>\n",
              "      <td>Richard Bruce Wright</td>\n",
              "      <td>2001.0</td>\n",
              "      <td>HarperFlamingo Canada</td>\n",
              "      <td>http://images.amazon.com/images/P/0002005018.0...</td>\n",
              "      <td>http://images.amazon.com/images/P/0002005018.0...</td>\n",
              "      <td>http://images.amazon.com/images/P/0002005018.0...</td>\n",
              "      <td>In a small town in Canada, Clara Callan reluct...</td>\n",
              "      <td>en</td>\n",
              "      <td>['Actresses']</td>\n",
              "      <td>NaN</td>\n",
              "      <td>NaN</td>\n",
              "      <td>NaN</td>\n",
              "    </tr>\n",
              "    <tr>\n",
              "      <th>4</th>\n",
              "      <td>4</td>\n",
              "      <td>41385</td>\n",
              "      <td>sudbury, ontario, canada</td>\n",
              "      <td>34.7439</td>\n",
              "      <td>0002005018</td>\n",
              "      <td>0</td>\n",
              "      <td>Clara Callan</td>\n",
              "      <td>Richard Bruce Wright</td>\n",
              "      <td>2001.0</td>\n",
              "      <td>HarperFlamingo Canada</td>\n",
              "      <td>http://images.amazon.com/images/P/0002005018.0...</td>\n",
              "      <td>http://images.amazon.com/images/P/0002005018.0...</td>\n",
              "      <td>http://images.amazon.com/images/P/0002005018.0...</td>\n",
              "      <td>In a small town in Canada, Clara Callan reluct...</td>\n",
              "      <td>en</td>\n",
              "      <td>['Actresses']</td>\n",
              "      <td>sudbury</td>\n",
              "      <td>ontario</td>\n",
              "      <td>canada</td>\n",
              "    </tr>\n",
              "  </tbody>\n",
              "</table>\n",
              "</div>"
            ],
            "text/plain": [
              "   Unnamed: 0  user_id                   location      age        isbn  \\\n",
              "0           0        2  stockton, california, usa  18.0000  0195153448   \n",
              "1           1        8   timmins, ontario, canada  34.7439  0002005018   \n",
              "2           2    11400    ottawa, ontario, canada  49.0000  0002005018   \n",
              "3           3    11676              n/a, n/a, n/a  34.7439  0002005018   \n",
              "4           4    41385   sudbury, ontario, canada  34.7439  0002005018   \n",
              "\n",
              "   rating           book_title           book_author  year_of_publication  \\\n",
              "0       0  Classical Mythology    Mark P. O. Morford               2002.0   \n",
              "1       5         Clara Callan  Richard Bruce Wright               2001.0   \n",
              "2       0         Clara Callan  Richard Bruce Wright               2001.0   \n",
              "3       8         Clara Callan  Richard Bruce Wright               2001.0   \n",
              "4       0         Clara Callan  Richard Bruce Wright               2001.0   \n",
              "\n",
              "                 publisher                                              img_s  \\\n",
              "0  Oxford University Press  http://images.amazon.com/images/P/0195153448.0...   \n",
              "1    HarperFlamingo Canada  http://images.amazon.com/images/P/0002005018.0...   \n",
              "2    HarperFlamingo Canada  http://images.amazon.com/images/P/0002005018.0...   \n",
              "3    HarperFlamingo Canada  http://images.amazon.com/images/P/0002005018.0...   \n",
              "4    HarperFlamingo Canada  http://images.amazon.com/images/P/0002005018.0...   \n",
              "\n",
              "                                               img_m  \\\n",
              "0  http://images.amazon.com/images/P/0195153448.0...   \n",
              "1  http://images.amazon.com/images/P/0002005018.0...   \n",
              "2  http://images.amazon.com/images/P/0002005018.0...   \n",
              "3  http://images.amazon.com/images/P/0002005018.0...   \n",
              "4  http://images.amazon.com/images/P/0002005018.0...   \n",
              "\n",
              "                                               img_l  \\\n",
              "0  http://images.amazon.com/images/P/0195153448.0...   \n",
              "1  http://images.amazon.com/images/P/0002005018.0...   \n",
              "2  http://images.amazon.com/images/P/0002005018.0...   \n",
              "3  http://images.amazon.com/images/P/0002005018.0...   \n",
              "4  http://images.amazon.com/images/P/0002005018.0...   \n",
              "\n",
              "                                             Summary Language  \\\n",
              "0  Provides an introduction to classical myths pl...       en   \n",
              "1  In a small town in Canada, Clara Callan reluct...       en   \n",
              "2  In a small town in Canada, Clara Callan reluct...       en   \n",
              "3  In a small town in Canada, Clara Callan reluct...       en   \n",
              "4  In a small town in Canada, Clara Callan reluct...       en   \n",
              "\n",
              "             Category      city       state country  \n",
              "0  ['Social Science']  stockton  california     usa  \n",
              "1       ['Actresses']   timmins     ontario  canada  \n",
              "2       ['Actresses']    ottawa     ontario  canada  \n",
              "3       ['Actresses']       NaN         NaN     NaN  \n",
              "4       ['Actresses']   sudbury     ontario  canada  "
            ]
          },
          "execution_count": 42,
          "metadata": {},
          "output_type": "execute_result"
        }
      ],
      "source": [
        "# Viewing dataset\n",
        "books_df.head()"
      ]
    },
    {
      "cell_type": "code",
      "execution_count": null,
      "metadata": {
        "id": "10B0nuPBFSPv",
        "outputId": "ef224c85-4a5e-4b5b-e2dd-655777148bce"
      },
      "outputs": [
        {
          "name": "stdout",
          "output_type": "stream",
          "text": [
            "<class 'pandas.core.frame.DataFrame'>\n",
            "RangeIndex: 1031175 entries, 0 to 1031174\n",
            "Data columns (total 19 columns):\n",
            " #   Column               Non-Null Count    Dtype  \n",
            "---  ------               --------------    -----  \n",
            " 0   Unnamed: 0           1031175 non-null  int64  \n",
            " 1   user_id              1031175 non-null  int64  \n",
            " 2   location             1031175 non-null  object \n",
            " 3   age                  1031175 non-null  float64\n",
            " 4   isbn                 1031175 non-null  object \n",
            " 5   rating               1031175 non-null  int64  \n",
            " 6   book_title           1031175 non-null  object \n",
            " 7   book_author          1031175 non-null  object \n",
            " 8   year_of_publication  1031175 non-null  float64\n",
            " 9   publisher            1031175 non-null  object \n",
            " 10  img_s                1031175 non-null  object \n",
            " 11  img_m                1031175 non-null  object \n",
            " 12  img_l                1031175 non-null  object \n",
            " 13  Summary              1031175 non-null  object \n",
            " 14  Language             1031175 non-null  object \n",
            " 15  Category             1031175 non-null  object \n",
            " 16  city                 1017072 non-null  object \n",
            " 17  state                1008377 non-null  object \n",
            " 18  country              995801 non-null   object \n",
            "dtypes: float64(2), int64(3), object(14)\n",
            "memory usage: 149.5+ MB\n"
          ]
        }
      ],
      "source": [
        "# Viewing Dataset info\n",
        "books_df.info()"
      ]
    },
    {
      "cell_type": "code",
      "execution_count": null,
      "metadata": {
        "id": "l-uwx1o3FSPw",
        "outputId": "bed439a1-1c7b-4f02-f131-70509285c36e"
      },
      "outputs": [
        {
          "data": {
            "text/plain": [
              "array(['en', '9', 'de', 'fr', 'es', 'ca', 'it', 'da', 'nl', 'pt', 'gl',\n",
              "       'ro', 'no', 'el', 'ms', 'la', 'ru', 'zh-CN', 'ga', 'pl', 'tl',\n",
              "       'th', 'ja', 'cy', 'fa', 'eo', 'gd', 'hi', 'vi', 'ar', 'zh-TW',\n",
              "       'ko', 'sv'], dtype=object)"
            ]
          },
          "execution_count": 3,
          "metadata": {},
          "output_type": "execute_result"
        }
      ],
      "source": [
        "# Checking number of languages in dataset\n",
        "books_df['Language'].unique()"
      ]
    },
    {
      "cell_type": "code",
      "execution_count": null,
      "metadata": {
        "id": "HeF9zQSrFSPw"
      },
      "outputs": [],
      "source": [
        "# Selecting books which are written in English\n",
        "books_eng = books_df[books_df['Language'] == 'en']"
      ]
    },
    {
      "cell_type": "code",
      "execution_count": null,
      "metadata": {
        "id": "_sI-EouGFSPx",
        "outputId": "083144d4-56e3-4b97-e519-908d8a010dae"
      },
      "outputs": [
        {
          "data": {
            "text/plain": [
              "Unnamed: 0                 0\n",
              "user_id                    0\n",
              "location                   0\n",
              "age                        0\n",
              "isbn                       0\n",
              "rating                     0\n",
              "book_title                 0\n",
              "book_author                0\n",
              "year_of_publication        0\n",
              "publisher                  0\n",
              "img_s                      0\n",
              "img_m                      0\n",
              "img_l                      0\n",
              "Summary                    0\n",
              "Language                   0\n",
              "Category                   0\n",
              "city                    7765\n",
              "state                  12121\n",
              "country                21044\n",
              "dtype: int64"
            ]
          },
          "execution_count": 5,
          "metadata": {},
          "output_type": "execute_result"
        }
      ],
      "source": [
        "# Checking for null values\n",
        "books_eng.isnull().sum()"
      ]
    },
    {
      "cell_type": "code",
      "execution_count": null,
      "metadata": {
        "id": "Zz_MRLYrFSPx",
        "outputId": "c1d532c1-f9d0-4859-93ba-217dfa8cde5a"
      },
      "outputs": [
        {
          "data": {
            "text/plain": [
              "['Fiction']                           381065\n",
              "['Juvenile Fiction']                   39330\n",
              "['Biography & Autobiography']          22295\n",
              "['Humor']                               8429\n",
              "['History']                             8213\n",
              "                                       ...  \n",
              "['ML (Computer program language)']         1\n",
              "['Marijuana.']                             1\n",
              "['Africa, French-speaking West']           1\n",
              "['Crusades.']                              1\n",
              "['Ex-police officers']                     1\n",
              "Name: Category, Length: 5996, dtype: int64"
            ]
          },
          "execution_count": 6,
          "metadata": {},
          "output_type": "execute_result"
        }
      ],
      "source": [
        "# Checking number of categories\n",
        "books_eng['Category'].value_counts()"
      ]
    },
    {
      "cell_type": "code",
      "execution_count": null,
      "metadata": {
        "id": "UOGjvAZ_FSPy"
      },
      "outputs": [],
      "source": [
        "# Making all column names lowercase\n",
        "books_eng.columns = books_eng.columns.str.lower()"
      ]
    },
    {
      "cell_type": "code",
      "execution_count": null,
      "metadata": {
        "id": "SA8M0oLBFSPz"
      },
      "outputs": [],
      "source": [
        "# Dropping unnecessary columsn\n",
        "books_eng = books_eng.drop(columns = ['unnamed: 0', 'language'])"
      ]
    },
    {
      "cell_type": "code",
      "execution_count": null,
      "metadata": {
        "id": "93SVWZS0FSPz"
      },
      "outputs": [],
      "source": [
        "books_eng['year_of_publication'] = books_eng['year_of_publication'].astype(int)\n",
        "books_eng['age'] = books_eng['age'].astype(int)"
      ]
    },
    {
      "cell_type": "code",
      "execution_count": null,
      "metadata": {
        "id": "WC2t4DrtFSPz"
      },
      "outputs": [],
      "source": [
        "# Selecting books with highest number of ratings\n",
        "num_ratings = books_eng.groupby('book_title', as_index = False)['rating'].count()\n",
        "num_ratings = num_ratings.rename(columns = {'rating' : 'num_of_ratings'})\n",
        "most_ratings = num_ratings.sort_values(by = 'num_of_ratings', ascending = False).head(10)"
      ]
    },
    {
      "cell_type": "code",
      "execution_count": null,
      "metadata": {
        "id": "hkcEGrVRFSP0"
      },
      "outputs": [],
      "source": [
        "# Color palette.\n",
        "my_color_pal = [\n",
        "    'MediumSeaGreen',\n",
        "    'LightSeaGreen',\n",
        "    'MediumAquaMarine',\n",
        "    'LightSkyBlue',\n",
        "    'LightSteelblue',\n",
        "    'PowderBlue',\n",
        "    'Plum',\n",
        "    'LightSalmon',\n",
        "    'LightPink',\n",
        "    'Moccasin',\n",
        "]"
      ]
    },
    {
      "cell_type": "code",
      "execution_count": null,
      "metadata": {
        "id": "nC462rtzFSP0",
        "outputId": "2f96cfaa-1b5b-4446-f984-82b5e1bb5857"
      },
      "outputs": [
        {
          "data": {
            "text/plain": [
              "Text(0.5, 0, 'Number of Ratings')"
            ]
          },
          "execution_count": 12,
          "metadata": {},
          "output_type": "execute_result"
        },
        {
          "data": {
            "image/png": "[encoded data removed]",
            "text/plain": [
              "<Figure size 432x288 with 1 Axes>"
            ]
          },
          "metadata": {
            "needs_background": "light"
          },
          "output_type": "display_data"
        }
      ],
      "source": [
        "# plotting books with highest number of ratings\n",
        "y = most_ratings['book_title']\n",
        "x = most_ratings['num_of_ratings']\n",
        "most_viz = plt.barh(y, x, color = my_color_pal, edgecolor = 'silver')\n",
        "plt.title('Books with most ratings', fontsize = 24, color = 'MediumSeaGreen')\n",
        "plt.xlabel('Number of Ratings', fontsize=16, color='MediumSeaGreen')"
      ]
    },
    {
      "cell_type": "code",
      "execution_count": null,
      "metadata": {
        "id": "9dAzDbviFSP0",
        "outputId": "e4d4beae-5a89-4bf6-f447-fd9675bb9aaf"
      },
      "outputs": [
        {
          "data": {
            "text/html": [
              "<div>\n",
              "<style scoped>\n",
              "    .dataframe tbody tr th:only-of-type {\n",
              "        vertical-align: middle;\n",
              "    }\n",
              "\n",
              "    .dataframe tbody tr th {\n",
              "        vertical-align: top;\n",
              "    }\n",
              "\n",
              "    .dataframe thead th {\n",
              "        text-align: right;\n",
              "    }\n",
              "</style>\n",
              "<table border=\"1\" class=\"dataframe\">\n",
              "  <thead>\n",
              "    <tr style=\"text-align: right;\">\n",
              "      <th></th>\n",
              "      <th>book_title</th>\n",
              "      <th>avg_ratings</th>\n",
              "    </tr>\n",
              "  </thead>\n",
              "  <tbody>\n",
              "    <tr>\n",
              "      <th>27444</th>\n",
              "      <td>Donna Kooler's 555 Christmas Cross-Stitch Designs</td>\n",
              "      <td>10.0</td>\n",
              "    </tr>\n",
              "    <tr>\n",
              "      <th>28055</th>\n",
              "      <td>Drawing for the Artistically Undiscovered</td>\n",
              "      <td>10.0</td>\n",
              "    </tr>\n",
              "    <tr>\n",
              "      <th>91272</th>\n",
              "      <td>The Book of Job</td>\n",
              "      <td>10.0</td>\n",
              "    </tr>\n",
              "  </tbody>\n",
              "</table>\n",
              "</div>"
            ],
            "text/plain": [
              "                                              book_title  avg_ratings\n",
              "27444  Donna Kooler's 555 Christmas Cross-Stitch Designs         10.0\n",
              "28055          Drawing for the Artistically Undiscovered         10.0\n",
              "91272                                    The Book of Job         10.0"
            ]
          },
          "execution_count": 13,
          "metadata": {},
          "output_type": "execute_result"
        }
      ],
      "source": [
        "# Selecting books with highest average rating\n",
        "avg_rating = books_eng.groupby('book_title', as_index = False)['rating'].mean()\n",
        "avg_rating = avg_rating.rename(columns = {'rating' : 'avg_ratings'})\n",
        "avg_rating.sort_values(by = 'avg_ratings', ascending = False).head(3)"
      ]
    },
    {
      "cell_type": "code",
      "execution_count": null,
      "metadata": {
        "id": "ZE-B6h1cFSP1",
        "outputId": "5173716a-d5aa-4454-eee9-3437144bf498"
      },
      "outputs": [
        {
          "data": {
            "text/plain": [
              "123495    2502\n",
              "94208      886\n",
              "103805     828\n",
              "15243      815\n",
              "108227     768\n",
              "26855      732\n",
              "106914     723\n",
              "109970     654\n",
              "3063       652\n",
              "82403      618\n",
              "110452     615\n",
              "40730      571\n",
              "4078       542\n",
              "109856     542\n",
              "115441     531\n",
              "37710      526\n",
              "47555      506\n",
              "99243      506\n",
              "92900      480\n",
              "38580      470\n",
              "Name: num_of_ratings, dtype: int64"
            ]
          },
          "execution_count": 14,
          "metadata": {},
          "output_type": "execute_result"
        }
      ],
      "source": [
        "# Combining number of ratings and average ratings\n",
        "ratings = num_ratings.merge(avg_rating, how= 'inner', on = 'book_title')\n",
        "ratings['num_of_ratings'].sort_values(ascending = False).head(20)"
      ]
    },
    {
      "cell_type": "code",
      "execution_count": null,
      "metadata": {
        "id": "HrPae9IDFSP1"
      },
      "outputs": [],
      "source": [
        "# Selecting books with reasonable amount of ratings and also are highest rated\n",
        "ratings_over_470 = ratings[ratings['num_of_ratings'] >= 470]\n",
        "top_books = ratings_over_470.sort_values(by= 'avg_ratings', ascending = False).head(10)"
      ]
    },
    {
      "cell_type": "code",
      "execution_count": null,
      "metadata": {
        "id": "h74_IyWXFSP1",
        "outputId": "0d550685-d2c2-44a9-f7b2-5358b7b54322"
      },
      "outputs": [
        {
          "data": {
            "text/html": [
              "<div>\n",
              "<style scoped>\n",
              "    .dataframe tbody tr th:only-of-type {\n",
              "        vertical-align: middle;\n",
              "    }\n",
              "\n",
              "    .dataframe tbody tr th {\n",
              "        vertical-align: top;\n",
              "    }\n",
              "\n",
              "    .dataframe thead th {\n",
              "        text-align: right;\n",
              "    }\n",
              "</style>\n",
              "<table border=\"1\" class=\"dataframe\">\n",
              "  <thead>\n",
              "    <tr style=\"text-align: right;\">\n",
              "      <th></th>\n",
              "      <th>book_title</th>\n",
              "      <th>num_of_ratings</th>\n",
              "      <th>avg_ratings</th>\n",
              "    </tr>\n",
              "  </thead>\n",
              "  <tbody>\n",
              "    <tr>\n",
              "      <th>40730</th>\n",
              "      <td>Harry Potter and the Sorcerer's Stone (Harry P...</td>\n",
              "      <td>571</td>\n",
              "      <td>4.900175</td>\n",
              "    </tr>\n",
              "    <tr>\n",
              "      <th>94208</th>\n",
              "      <td>The Da Vinci Code</td>\n",
              "      <td>886</td>\n",
              "      <td>4.647856</td>\n",
              "    </tr>\n",
              "    <tr>\n",
              "      <th>108227</th>\n",
              "      <td>The Secret Life of Bees</td>\n",
              "      <td>768</td>\n",
              "      <td>4.442708</td>\n",
              "    </tr>\n",
              "    <tr>\n",
              "      <th>106914</th>\n",
              "      <td>The Red Tent (Bestselling Backlist)</td>\n",
              "      <td>723</td>\n",
              "      <td>4.334716</td>\n",
              "    </tr>\n",
              "    <tr>\n",
              "      <th>37710</th>\n",
              "      <td>Girl with a Pearl Earring</td>\n",
              "      <td>526</td>\n",
              "      <td>4.218631</td>\n",
              "    </tr>\n",
              "    <tr>\n",
              "      <th>38580</th>\n",
              "      <td>Good in Bed</td>\n",
              "      <td>470</td>\n",
              "      <td>4.040426</td>\n",
              "    </tr>\n",
              "    <tr>\n",
              "      <th>115441</th>\n",
              "      <td>Timeline</td>\n",
              "      <td>531</td>\n",
              "      <td>3.757062</td>\n",
              "    </tr>\n",
              "    <tr>\n",
              "      <th>47555</th>\n",
              "      <td>Interview with the Vampire</td>\n",
              "      <td>506</td>\n",
              "      <td>3.535573</td>\n",
              "    </tr>\n",
              "    <tr>\n",
              "      <th>103805</th>\n",
              "      <td>The Nanny Diaries: A Novel</td>\n",
              "      <td>828</td>\n",
              "      <td>3.530193</td>\n",
              "    </tr>\n",
              "    <tr>\n",
              "      <th>15243</th>\n",
              "      <td>Bridget Jones's Diary</td>\n",
              "      <td>815</td>\n",
              "      <td>3.527607</td>\n",
              "    </tr>\n",
              "  </tbody>\n",
              "</table>\n",
              "</div>"
            ],
            "text/plain": [
              "                                               book_title  num_of_ratings  \\\n",
              "40730   Harry Potter and the Sorcerer's Stone (Harry P...             571   \n",
              "94208                                   The Da Vinci Code             886   \n",
              "108227                            The Secret Life of Bees             768   \n",
              "106914                The Red Tent (Bestselling Backlist)             723   \n",
              "37710                           Girl with a Pearl Earring             526   \n",
              "38580                                         Good in Bed             470   \n",
              "115441                                           Timeline             531   \n",
              "47555                          Interview with the Vampire             506   \n",
              "103805                         The Nanny Diaries: A Novel             828   \n",
              "15243                               Bridget Jones's Diary             815   \n",
              "\n",
              "        avg_ratings  \n",
              "40730      4.900175  \n",
              "94208      4.647856  \n",
              "108227     4.442708  \n",
              "106914     4.334716  \n",
              "37710      4.218631  \n",
              "38580      4.040426  \n",
              "115441     3.757062  \n",
              "47555      3.535573  \n",
              "103805     3.530193  \n",
              "15243      3.527607  "
            ]
          },
          "execution_count": 16,
          "metadata": {},
          "output_type": "execute_result"
        }
      ],
      "source": [
        "top_books"
      ]
    },
    {
      "cell_type": "code",
      "execution_count": null,
      "metadata": {
        "id": "afiQvkghFSP2"
      },
      "outputs": [],
      "source": [
        "# Shortening titles.\n",
        "top_books.iloc[0, 0] = \"Harry Potter and the Sorcerer's Stone\"\n",
        "top_books.iloc[3, 0] = 'The Red Tent'\n",
        "top_books.iloc[8, 0] = 'The Nanny Diaries'"
      ]
    },
    {
      "cell_type": "code",
      "execution_count": null,
      "metadata": {
        "id": "YY8fDOiZFSP2",
        "outputId": "add438b9-b161-4b48-e2e1-23dddba1bb87"
      },
      "outputs": [
        {
          "data": {
            "image/png": "[encoded data removed]",
            "text/plain": [
              "<Figure size 720x432 with 1 Axes>"
            ]
          },
          "metadata": {
            "needs_background": "light"
          },
          "output_type": "display_data"
        }
      ],
      "source": [
        "x = list(top_books['num_of_ratings'])\n",
        "y = list(top_books['avg_ratings'])\n",
        "labels = list(top_books['book_title'])\n",
        "plt.figure(figsize = (10, 6))\n",
        "plt.scatter(x, y, color = 'blue')\n",
        "plt.title('Top ten books', fontsize = 24, color = 'lightBlue')\n",
        "plt.xlabel('Number of Ratings', fontsize = 16, color = 'lightGreen')\n",
        "plt.ylabel('Average Ratings', fontsize = 16, color = 'lightGreen')\n",
        "for i, txt in enumerate(labels):\n",
        "    if i == 8:\n",
        "        plt.annotate(txt, (x[i], y[i]), rotation = 45, size = 10)\n",
        "    elif i == 9:\n",
        "        plt.annotate(txt, (x[i], y[i]), rotation = 65, size = 10)\n",
        "    else:\n",
        "        plt.annotate(txt, (x[i], y[i]), size=12)\n",
        "plt.show()"
      ]
    },
    {
      "cell_type": "code",
      "execution_count": null,
      "metadata": {
        "id": "sevHl2huFSP2",
        "outputId": "7aa5bc14-63ef-4e4d-fa42-4eca4434560b"
      },
      "outputs": [
        {
          "name": "stdout",
          "output_type": "stream",
          "text": [
            "<class 'pandas.core.frame.DataFrame'>\n",
            "Int64Index: 7525 entries, 0 to 7524\n",
            "Data columns (total 3 columns):\n",
            " #   Column      Non-Null Count  Dtype  \n",
            "---  ------      --------------  -----  \n",
            " 0   book_title  7525 non-null   object \n",
            " 1   summary     7525 non-null   object \n",
            " 2   rating      7525 non-null   float64\n",
            "dtypes: float64(1), object(2)\n",
            "memory usage: 235.2+ KB\n"
          ]
        }
      ],
      "source": [
        "book_summary = books_eng[1: 200000].groupby(['book_title', 'summary'], as_index = False)['rating'].mean()\n",
        "book_summary['book_title'].drop_duplicates(inplace = True)\n",
        "book_summary.info()"
      ]
    },
    {
      "cell_type": "code",
      "execution_count": null,
      "metadata": {
        "id": "ZOYAalLHFSP3"
      },
      "outputs": [],
      "source": [
        "tfidf = TfidfVectorizer(stop_words='english')"
      ]
    },
    {
      "cell_type": "code",
      "execution_count": null,
      "metadata": {
        "id": "wq8-PKFHFSP3"
      },
      "outputs": [],
      "source": [
        "# Replacing null values with empty string\n",
        "book_summary['summary'] = book_summary['summary'].fillna('')"
      ]
    },
    {
      "cell_type": "code",
      "execution_count": null,
      "metadata": {
        "id": "ZLPWklG8FSP3"
      },
      "outputs": [],
      "source": [
        "# Construct the required TF-IDF matrix by fitting and transforming the data\n",
        "tfidf_matrix = tfidf.fit_transform(book_summary['summary'])\n",
        "\n",
        "# Compute the cosine similarity matrix.\n",
        "cosine_sim = linear_kernel(tfidf_matrix, tfidf_matrix)\n",
        "\n",
        "# Construct a reverse map of indices and book titles.\n",
        "indices = pd.Series(book_summary.index, index=book_summary['book_title']).drop_duplicates()"
      ]
    },
    {
      "cell_type": "code",
      "execution_count": null,
      "metadata": {
        "id": "qUISd5kgFSP3"
      },
      "outputs": [],
      "source": [
        "# Compute the cosine similarity matrix\n",
        "cosine_sim = linear_kernel(tfidf_matrix, tfidf_matrix)\n",
        "\n",
        "indices = pd.Series(book_summary.index, index=book_summary['book_title']).drop_duplicates()"
      ]
    },
    {
      "cell_type": "code",
      "execution_count": null,
      "metadata": {
        "id": "3I_3ssbzFSP3"
      },
      "outputs": [],
      "source": [
        "def get_recommendations(book_title, cosine_sim=cosine_sim):\n",
        "    # Get the index of the movie that matches the title\n",
        "    idx = indices[book_title]\n",
        "    print(idx)\n",
        "    \n",
        "    # Similarity scores\n",
        "    similarity_scores = list(enumerate(cosine_sim[idx]))\n",
        "\n",
        "    # Sort the books based on the similarity scores\n",
        "    similarity_scores = sorted(similarity_scores, key=lambda x: x[1], reverse=True)\n",
        "\n",
        "    # Get the scores of the six most similar books\n",
        "    similarity_scores =  similarity_scores[1:6]\n",
        "\n",
        "    # Get the book indices\n",
        "    book_indices = [i[0] for i in similarity_scores]\n",
        "\n",
        "    # Return the top 5 most similar books\n",
        "    return book_summary['book_title'].iloc[book_indices]"
      ]
    },
    {
      "cell_type": "code",
      "execution_count": null,
      "metadata": {
        "id": "-tunjVkpFSP3",
        "outputId": "716fa450-760b-456a-aebe-5887e94ac05d"
      },
      "outputs": [
        {
          "name": "stdout",
          "output_type": "stream",
          "text": [
            "2306\n"
          ]
        },
        {
          "data": {
            "text/plain": [
              "2306    Harry Potter and the Sorcerer's Stone (Harry P...\n",
              "2304       Harry Potter and the Sorcerer's Stone (Book 1)\n",
              "2300         Harry Potter and the Goblet of Fire (Book 4)\n",
              "2301    Harry Potter and the Order of the Phoenix (Boo...\n",
              "2303    Harry Potter and the Prisoner of Azkaban (Book 3)\n",
              "Name: book_title, dtype: object"
            ]
          },
          "execution_count": 25,
          "metadata": {},
          "output_type": "execute_result"
        }
      ],
      "source": [
        "get_recommendations(\"Harry Potter and the Sorcerer's Stone (Harry Potter (Paperback))\")"
      ]
    },
    {
      "cell_type": "code",
      "execution_count": null,
      "metadata": {
        "id": "94wT19mtFSP4",
        "outputId": "3ea8d548-e423-4532-8640-366a4121d62b"
      },
      "outputs": [
        {
          "name": "stdout",
          "output_type": "stream",
          "text": [
            "5426\n"
          ]
        },
        {
          "data": {
            "text/plain": [
              "5427         The Da Vinci Code (Random House Large Print)\n",
              "2008    Fortune Is a River : Leonardo Da Vinci and Nic...\n",
              "604                                               Baggage\n",
              "5809    The How to Think Like Leonardo da Vinci Workbo...\n",
              "2215    Great Book Of Whodunit Puzzles: Mini-Mysteries...\n",
              "Name: book_title, dtype: object"
            ]
          },
          "execution_count": 26,
          "metadata": {},
          "output_type": "execute_result"
        }
      ],
      "source": [
        "get_recommendations('The Da Vinci Code')"
      ]
    },
    {
      "cell_type": "code",
      "execution_count": null,
      "metadata": {
        "id": "hmTPDEfbFSP4",
        "outputId": "9eaa491c-031d-44ad-92c8-f0d0b4bcfb94"
      },
      "outputs": [
        {
          "name": "stdout",
          "output_type": "stream",
          "text": [
            "7360\n"
          ]
        },
        {
          "data": {
            "text/plain": [
              "4419                                 Second Ring of Power\n",
              "2169         Godel, Escher, Bach: An Eternal Golden Braid\n",
              "859     Breaking Down the Wall of Silence: The Liberat...\n",
              "5497                                    The Dog I.Q. Test\n",
              "7367    Wild Man's Journey: Reflections on Male Spirit...\n",
              "Name: book_title, dtype: object"
            ]
          },
          "execution_count": 27,
          "metadata": {},
          "output_type": "execute_result"
        }
      ],
      "source": [
        "get_recommendations('Wild Animus')"
      ]
    },
    {
      "cell_type": "code",
      "execution_count": null,
      "metadata": {
        "id": "qxZZKFgbFSP4",
        "outputId": "0f327e3a-f4eb-4c60-a83d-07ffa592be50"
      },
      "outputs": [
        {
          "data": {
            "text/plain": [
              "numpy.ndarray"
            ]
          },
          "execution_count": 28,
          "metadata": {},
          "output_type": "execute_result"
        }
      ],
      "source": [
        "type(cosine_sim)"
      ]
    },
    {
      "cell_type": "code",
      "execution_count": null,
      "metadata": {
        "id": "0xhtiYODFSP4"
      },
      "outputs": [],
      "source": [
        "from numpy import savetxt\n",
        "savetxt('sim_matrix.csv', cosine_sim, delimiter=',')"
      ]
    },
    {
      "cell_type": "code",
      "execution_count": null,
      "metadata": {
        "id": "j5fdqsTUFSP4"
      },
      "outputs": [],
      "source": [
        "type(indices)"
      ]
    },
    {
      "cell_type": "code",
      "execution_count": null,
      "metadata": {
        "id": "Xx0fKHq2FSP4"
      },
      "outputs": [],
      "source": [
        "indices"
      ]
    },
    {
      "cell_type": "code",
      "execution_count": null,
      "metadata": {
        "id": "b7odcL24FSP4"
      },
      "outputs": [],
      "source": [
        "savetxt('indices.csv', indices, delimiter=',')"
      ]
    },
    {
      "cell_type": "code",
      "execution_count": null,
      "metadata": {
        "id": "3fZhsZToFSP5"
      },
      "outputs": [],
      "source": [
        "indices.to_csv('indices_imp.csv')"
      ]
    },
    {
      "cell_type": "code",
      "execution_count": null,
      "metadata": {
        "id": "kTg-xUREFSP5"
      },
      "outputs": [],
      "source": [
        "idx = indices[\"Harry Potter and the Sorcerer's Stone (Harry Potter (Paperback))\"]"
      ]
    },
    {
      "cell_type": "code",
      "execution_count": null,
      "metadata": {
        "id": "W6d7YT5iFSP5"
      },
      "outputs": [],
      "source": [
        ""
      ]
    }
  ],
  "metadata": {
    "kernelspec": {
      "display_name": "Python 3",
      "language": "python",
      "name": "python3"
    },
    "language_info": {
      "codemirror_mode": {
        "name": "ipython",
        "version": 3
      },
      "file_extension": ".py",
      "mimetype": "text/x-python",
      "name": "python",
      "nbconvert_exporter": "python",
      "pygments_lexer": "ipython3",
      "version": "3.8.3"
    },
    "colab": {
      "name": "book_recommendation_system.ipynb",
      "provenance": [],
      "include_colab_link": true
    }
  },
  "nbformat": 4,
  "nbformat_minor": 0
}